{
 "cells": [
  {
   "cell_type": "markdown",
   "id": "7d3087ba",
   "metadata": {},
   "source": [
    "## Краткое описание"
   ]
  },
  {
   "cell_type": "markdown",
   "id": "cc8545d2",
   "metadata": {},
   "source": [
    "Цель проекта - обучить модель-классификатор, предсказывающую жанр музыкальной композиции по её заданным признакам. Для этого предусмотрены следующие шаги: 1) анализ исходных данных, проверка на пропуски и дубликаты; 2) анализ и выявление закономерностей в количественных и качественных данных; 3) предобработка данных перед машинным обучением; 4) обучение модели и её проверка на обучающем датафрейме. Для измерения качества работы модели будет использована мтерика f1-micro."
   ]
  },
  {
   "cell_type": "markdown",
   "id": "f7f147f6",
   "metadata": {},
   "source": [
    "## Загрузка библиотек"
   ]
  },
  {
   "cell_type": "code",
   "execution_count": 1,
   "id": "022c2419",
   "metadata": {},
   "outputs": [
    {
     "name": "stdout",
     "output_type": "stream",
     "text": [
      "Requirement already satisfied: phik in /Users/nikitagoroshevskiy/opt/anaconda3/lib/python3.9/site-packages (0.12.3)\n",
      "Requirement already satisfied: pandas>=0.25.1 in /Users/nikitagoroshevskiy/opt/anaconda3/lib/python3.9/site-packages (from phik) (1.4.4)\n",
      "Requirement already satisfied: joblib>=0.14.1 in /Users/nikitagoroshevskiy/opt/anaconda3/lib/python3.9/site-packages (from phik) (1.3.2)\n",
      "Requirement already satisfied: matplotlib>=2.2.3 in /Users/nikitagoroshevskiy/opt/anaconda3/lib/python3.9/site-packages (from phik) (3.5.2)\n",
      "Requirement already satisfied: scipy>=1.5.2 in /Users/nikitagoroshevskiy/opt/anaconda3/lib/python3.9/site-packages (from phik) (1.9.1)\n",
      "Requirement already satisfied: numpy>=1.18.0 in /Users/nikitagoroshevskiy/opt/anaconda3/lib/python3.9/site-packages (from phik) (1.21.5)\n",
      "Requirement already satisfied: packaging>=20.0 in /Users/nikitagoroshevskiy/opt/anaconda3/lib/python3.9/site-packages (from matplotlib>=2.2.3->phik) (21.3)\n",
      "Requirement already satisfied: pyparsing>=2.2.1 in /Users/nikitagoroshevskiy/opt/anaconda3/lib/python3.9/site-packages (from matplotlib>=2.2.3->phik) (3.0.9)\n",
      "Requirement already satisfied: python-dateutil>=2.7 in /Users/nikitagoroshevskiy/opt/anaconda3/lib/python3.9/site-packages (from matplotlib>=2.2.3->phik) (2.8.2)\n",
      "Requirement already satisfied: pillow>=6.2.0 in /Users/nikitagoroshevskiy/opt/anaconda3/lib/python3.9/site-packages (from matplotlib>=2.2.3->phik) (9.2.0)\n",
      "Requirement already satisfied: cycler>=0.10 in /Users/nikitagoroshevskiy/opt/anaconda3/lib/python3.9/site-packages (from matplotlib>=2.2.3->phik) (0.11.0)\n",
      "Requirement already satisfied: kiwisolver>=1.0.1 in /Users/nikitagoroshevskiy/opt/anaconda3/lib/python3.9/site-packages (from matplotlib>=2.2.3->phik) (1.4.2)\n",
      "Requirement already satisfied: fonttools>=4.22.0 in /Users/nikitagoroshevskiy/opt/anaconda3/lib/python3.9/site-packages (from matplotlib>=2.2.3->phik) (4.25.0)\n",
      "Requirement already satisfied: pytz>=2020.1 in /Users/nikitagoroshevskiy/opt/anaconda3/lib/python3.9/site-packages (from pandas>=0.25.1->phik) (2022.1)\n",
      "Requirement already satisfied: six>=1.5 in /Users/nikitagoroshevskiy/opt/anaconda3/lib/python3.9/site-packages (from python-dateutil>=2.7->matplotlib>=2.2.3->phik) (1.16.0)\n"
     ]
    }
   ],
   "source": [
    "!pip install -q pyod\n",
    "!pip install -q feature_engine\n",
    "!pip install -q imbalanced-learn\n",
    "!pip install phik"
   ]
  },
  {
   "cell_type": "code",
   "execution_count": 2,
   "id": "4fc1bf60",
   "metadata": {},
   "outputs": [],
   "source": [
    "import warnings\n",
    "warnings.filterwarnings('ignore')\n",
    "from collections import Counter\n",
    "\n",
    "import seaborn as sns\n",
    "import pandas as pd\n",
    "import numpy as np\n",
    "import matplotlib.pyplot as plt\n",
    "from matplotlib import rcParams, rcParamsDefault\n",
    "from sklearn.experimental import enable_iterative_imputer\n",
    "\n",
    "from phik import phik_matrix\n",
    "\n",
    "from sklearn.model_selection import train_test_split, RandomizedSearchCV\n",
    "from feature_engine.selection import DropCorrelatedFeatures, DropConstantFeatures\n",
    "from sklearn.feature_selection import mutual_info_classif, SelectKBest\n",
    "\n",
    "from sklearn.preprocessing import OneHotEncoder, OrdinalEncoder\n",
    "from sklearn.preprocessing import StandardScaler, MinMaxScaler, RobustScaler\n",
    "from sklearn.pipeline import Pipeline, make_pipeline\n",
    "\n",
    "from sklearn.impute import KNNImputer, IterativeImputer, SimpleImputer\n",
    "from sklearn.metrics import f1_score\n",
    "\n",
    "from sklearn.ensemble import IsolationForest, RandomForestClassifier, HistGradientBoostingClassifier, StackingClassifier\n",
    "from sklearn.preprocessing import PolynomialFeatures\n",
    "\n",
    "from sklearn.linear_model import LogisticRegression\n",
    "\n",
    "from sklearn.compose import ColumnTransformer, make_column_selector, make_column_transformer\n",
    "\n",
    "from imblearn.base import FunctionSampler\n",
    "from imblearn.pipeline import make_pipeline as make_imblearn_pipeline\n",
    "\n",
    "import joblib\n",
    "import re"
   ]
  },
  {
   "cell_type": "markdown",
   "id": "387b7fad",
   "metadata": {},
   "source": [
    "## Загрузка данных"
   ]
  },
  {
   "cell_type": "code",
   "execution_count": 3,
   "id": "5c06d879",
   "metadata": {},
   "outputs": [],
   "source": [
    "df_train = pd.read_csv('kaggle_music_genre_train.csv')\n",
    "df_test = pd.read_csv('kaggle_music_genre_test.csv')"
   ]
  },
  {
   "cell_type": "markdown",
   "id": "2ecd0f9e",
   "metadata": {},
   "source": [
    "## Анализ исходных данных"
   ]
  },
  {
   "cell_type": "code",
   "execution_count": 4,
   "id": "d635d08e",
   "metadata": {},
   "outputs": [],
   "source": [
    "def analyze_dataset(data):\n",
    "    print(\"Первые 5 строк:\")\n",
    "    display(data.head())\n",
    "    print(\"\\n\" + \"=\" * 50)\n",
    "    print(\"\\nИнформация о данных:\")\n",
    "    print(data.info())\n",
    "    print(\"\\n\" + \"=\" * 50)\n",
    "    print(\"\\nКоличество дубликатов:\", data.duplicated().sum())\n",
    "    print(\"\\n\" + \"=\" * 50)\n",
    "    print(\"\\nПропуски в данных:\")\n",
    "    print(data.isnull().sum())\n",
    "    print(\"\\n\" + \"=\" * 50)\n",
    "    print(\"\\nОписательная статистика:\")\n",
    "    display(data.describe())\n",
    "    print(\"\\n\" + \"=\" * 50)\n",
    "    print(\"\\nФорма данных (количество строк, количество столбцов):\", data.shape)"
   ]
  },
  {
   "cell_type": "code",
   "execution_count": 5,
   "id": "104be221",
   "metadata": {},
   "outputs": [
    {
     "name": "stdout",
     "output_type": "stream",
     "text": [
      "Первые 5 строк:\n"
     ]
    },
    {
     "data": {
      "text/html": [
       "<div>\n",
       "<style scoped>\n",
       "    .dataframe tbody tr th:only-of-type {\n",
       "        vertical-align: middle;\n",
       "    }\n",
       "\n",
       "    .dataframe tbody tr th {\n",
       "        vertical-align: top;\n",
       "    }\n",
       "\n",
       "    .dataframe thead th {\n",
       "        text-align: right;\n",
       "    }\n",
       "</style>\n",
       "<table border=\"1\" class=\"dataframe\">\n",
       "  <thead>\n",
       "    <tr style=\"text-align: right;\">\n",
       "      <th></th>\n",
       "      <th>instance_id</th>\n",
       "      <th>track_name</th>\n",
       "      <th>acousticness</th>\n",
       "      <th>danceability</th>\n",
       "      <th>duration_ms</th>\n",
       "      <th>energy</th>\n",
       "      <th>instrumentalness</th>\n",
       "      <th>key</th>\n",
       "      <th>liveness</th>\n",
       "      <th>loudness</th>\n",
       "      <th>mode</th>\n",
       "      <th>speechiness</th>\n",
       "      <th>tempo</th>\n",
       "      <th>obtained_date</th>\n",
       "      <th>valence</th>\n",
       "      <th>music_genre</th>\n",
       "    </tr>\n",
       "  </thead>\n",
       "  <tbody>\n",
       "    <tr>\n",
       "      <th>0</th>\n",
       "      <td>25143.0</td>\n",
       "      <td>Highwayman</td>\n",
       "      <td>0.4800</td>\n",
       "      <td>0.670</td>\n",
       "      <td>182653.0</td>\n",
       "      <td>0.351</td>\n",
       "      <td>0.017600</td>\n",
       "      <td>D</td>\n",
       "      <td>0.115</td>\n",
       "      <td>-16.842</td>\n",
       "      <td>Major</td>\n",
       "      <td>0.0463</td>\n",
       "      <td>101.384</td>\n",
       "      <td>4-Apr</td>\n",
       "      <td>0.450</td>\n",
       "      <td>Country</td>\n",
       "    </tr>\n",
       "    <tr>\n",
       "      <th>1</th>\n",
       "      <td>26091.0</td>\n",
       "      <td>Toes Across The Floor</td>\n",
       "      <td>0.2430</td>\n",
       "      <td>0.452</td>\n",
       "      <td>187133.0</td>\n",
       "      <td>0.670</td>\n",
       "      <td>0.000051</td>\n",
       "      <td>A</td>\n",
       "      <td>0.108</td>\n",
       "      <td>-8.392</td>\n",
       "      <td>Minor</td>\n",
       "      <td>0.0352</td>\n",
       "      <td>113.071</td>\n",
       "      <td>4-Apr</td>\n",
       "      <td>0.539</td>\n",
       "      <td>Rock</td>\n",
       "    </tr>\n",
       "    <tr>\n",
       "      <th>2</th>\n",
       "      <td>87888.0</td>\n",
       "      <td>First Person on Earth</td>\n",
       "      <td>0.2280</td>\n",
       "      <td>0.454</td>\n",
       "      <td>173448.0</td>\n",
       "      <td>0.804</td>\n",
       "      <td>0.000000</td>\n",
       "      <td>E</td>\n",
       "      <td>0.181</td>\n",
       "      <td>-5.225</td>\n",
       "      <td>Minor</td>\n",
       "      <td>0.3710</td>\n",
       "      <td>80.980</td>\n",
       "      <td>4-Apr</td>\n",
       "      <td>0.344</td>\n",
       "      <td>Alternative</td>\n",
       "    </tr>\n",
       "    <tr>\n",
       "      <th>3</th>\n",
       "      <td>77021.0</td>\n",
       "      <td>No Te Veo - Digital Single</td>\n",
       "      <td>0.0558</td>\n",
       "      <td>0.847</td>\n",
       "      <td>255987.0</td>\n",
       "      <td>0.873</td>\n",
       "      <td>0.000003</td>\n",
       "      <td>G#</td>\n",
       "      <td>0.325</td>\n",
       "      <td>-4.805</td>\n",
       "      <td>Minor</td>\n",
       "      <td>0.0804</td>\n",
       "      <td>116.007</td>\n",
       "      <td>4-Apr</td>\n",
       "      <td>0.966</td>\n",
       "      <td>Hip-Hop</td>\n",
       "    </tr>\n",
       "    <tr>\n",
       "      <th>4</th>\n",
       "      <td>20852.0</td>\n",
       "      <td>Chasing Shadows</td>\n",
       "      <td>0.2270</td>\n",
       "      <td>0.742</td>\n",
       "      <td>195333.0</td>\n",
       "      <td>0.575</td>\n",
       "      <td>0.000002</td>\n",
       "      <td>C</td>\n",
       "      <td>0.176</td>\n",
       "      <td>-5.550</td>\n",
       "      <td>Major</td>\n",
       "      <td>0.0487</td>\n",
       "      <td>76.494</td>\n",
       "      <td>4-Apr</td>\n",
       "      <td>0.583</td>\n",
       "      <td>Alternative</td>\n",
       "    </tr>\n",
       "  </tbody>\n",
       "</table>\n",
       "</div>"
      ],
      "text/plain": [
       "   instance_id                  track_name  acousticness  danceability  \\\n",
       "0      25143.0                  Highwayman        0.4800         0.670   \n",
       "1      26091.0       Toes Across The Floor        0.2430         0.452   \n",
       "2      87888.0       First Person on Earth        0.2280         0.454   \n",
       "3      77021.0  No Te Veo - Digital Single        0.0558         0.847   \n",
       "4      20852.0             Chasing Shadows        0.2270         0.742   \n",
       "\n",
       "   duration_ms  energy  instrumentalness key  liveness  loudness   mode  \\\n",
       "0     182653.0   0.351          0.017600   D     0.115   -16.842  Major   \n",
       "1     187133.0   0.670          0.000051   A     0.108    -8.392  Minor   \n",
       "2     173448.0   0.804          0.000000   E     0.181    -5.225  Minor   \n",
       "3     255987.0   0.873          0.000003  G#     0.325    -4.805  Minor   \n",
       "4     195333.0   0.575          0.000002   C     0.176    -5.550  Major   \n",
       "\n",
       "   speechiness    tempo obtained_date  valence  music_genre  \n",
       "0       0.0463  101.384         4-Apr    0.450      Country  \n",
       "1       0.0352  113.071         4-Apr    0.539         Rock  \n",
       "2       0.3710   80.980         4-Apr    0.344  Alternative  \n",
       "3       0.0804  116.007         4-Apr    0.966      Hip-Hop  \n",
       "4       0.0487   76.494         4-Apr    0.583  Alternative  "
      ]
     },
     "metadata": {},
     "output_type": "display_data"
    },
    {
     "name": "stdout",
     "output_type": "stream",
     "text": [
      "\n",
      "==================================================\n",
      "\n",
      "Информация о данных:\n",
      "<class 'pandas.core.frame.DataFrame'>\n",
      "RangeIndex: 20394 entries, 0 to 20393\n",
      "Data columns (total 16 columns):\n",
      " #   Column            Non-Null Count  Dtype  \n",
      "---  ------            --------------  -----  \n",
      " 0   instance_id       20394 non-null  float64\n",
      " 1   track_name        20394 non-null  object \n",
      " 2   acousticness      20394 non-null  float64\n",
      " 3   danceability      20394 non-null  float64\n",
      " 4   duration_ms       20394 non-null  float64\n",
      " 5   energy            20394 non-null  float64\n",
      " 6   instrumentalness  20394 non-null  float64\n",
      " 7   key               19659 non-null  object \n",
      " 8   liveness          20394 non-null  float64\n",
      " 9   loudness          20394 non-null  float64\n",
      " 10  mode              19888 non-null  object \n",
      " 11  speechiness       20394 non-null  float64\n",
      " 12  tempo             19952 non-null  float64\n",
      " 13  obtained_date     20394 non-null  object \n",
      " 14  valence           20394 non-null  float64\n",
      " 15  music_genre       20394 non-null  object \n",
      "dtypes: float64(11), object(5)\n",
      "memory usage: 2.5+ MB\n",
      "None\n",
      "\n",
      "==================================================\n",
      "\n",
      "Количество дубликатов: 0\n",
      "\n",
      "==================================================\n",
      "\n",
      "Пропуски в данных:\n",
      "instance_id           0\n",
      "track_name            0\n",
      "acousticness          0\n",
      "danceability          0\n",
      "duration_ms           0\n",
      "energy                0\n",
      "instrumentalness      0\n",
      "key                 735\n",
      "liveness              0\n",
      "loudness              0\n",
      "mode                506\n",
      "speechiness           0\n",
      "tempo               442\n",
      "obtained_date         0\n",
      "valence               0\n",
      "music_genre           0\n",
      "dtype: int64\n",
      "\n",
      "==================================================\n",
      "\n",
      "Описательная статистика:\n"
     ]
    },
    {
     "data": {
      "text/html": [
       "<div>\n",
       "<style scoped>\n",
       "    .dataframe tbody tr th:only-of-type {\n",
       "        vertical-align: middle;\n",
       "    }\n",
       "\n",
       "    .dataframe tbody tr th {\n",
       "        vertical-align: top;\n",
       "    }\n",
       "\n",
       "    .dataframe thead th {\n",
       "        text-align: right;\n",
       "    }\n",
       "</style>\n",
       "<table border=\"1\" class=\"dataframe\">\n",
       "  <thead>\n",
       "    <tr style=\"text-align: right;\">\n",
       "      <th></th>\n",
       "      <th>instance_id</th>\n",
       "      <th>acousticness</th>\n",
       "      <th>danceability</th>\n",
       "      <th>duration_ms</th>\n",
       "      <th>energy</th>\n",
       "      <th>instrumentalness</th>\n",
       "      <th>liveness</th>\n",
       "      <th>loudness</th>\n",
       "      <th>speechiness</th>\n",
       "      <th>tempo</th>\n",
       "      <th>valence</th>\n",
       "    </tr>\n",
       "  </thead>\n",
       "  <tbody>\n",
       "    <tr>\n",
       "      <th>count</th>\n",
       "      <td>20394.000000</td>\n",
       "      <td>20394.000000</td>\n",
       "      <td>20394.000000</td>\n",
       "      <td>2.039400e+04</td>\n",
       "      <td>20394.000000</td>\n",
       "      <td>20394.000000</td>\n",
       "      <td>20394.000000</td>\n",
       "      <td>20394.000000</td>\n",
       "      <td>20394.000000</td>\n",
       "      <td>19952.000000</td>\n",
       "      <td>20394.000000</td>\n",
       "    </tr>\n",
       "    <tr>\n",
       "      <th>mean</th>\n",
       "      <td>55973.846916</td>\n",
       "      <td>0.274783</td>\n",
       "      <td>0.561983</td>\n",
       "      <td>2.203754e+05</td>\n",
       "      <td>0.625276</td>\n",
       "      <td>0.159989</td>\n",
       "      <td>0.198540</td>\n",
       "      <td>-8.552998</td>\n",
       "      <td>0.091352</td>\n",
       "      <td>120.942522</td>\n",
       "      <td>0.464588</td>\n",
       "    </tr>\n",
       "    <tr>\n",
       "      <th>std</th>\n",
       "      <td>20695.792545</td>\n",
       "      <td>0.321643</td>\n",
       "      <td>0.171898</td>\n",
       "      <td>1.267283e+05</td>\n",
       "      <td>0.251238</td>\n",
       "      <td>0.306503</td>\n",
       "      <td>0.166742</td>\n",
       "      <td>5.499917</td>\n",
       "      <td>0.097735</td>\n",
       "      <td>30.427590</td>\n",
       "      <td>0.243387</td>\n",
       "    </tr>\n",
       "    <tr>\n",
       "      <th>min</th>\n",
       "      <td>20011.000000</td>\n",
       "      <td>0.000000</td>\n",
       "      <td>0.060000</td>\n",
       "      <td>-1.000000e+00</td>\n",
       "      <td>0.001010</td>\n",
       "      <td>0.000000</td>\n",
       "      <td>0.013600</td>\n",
       "      <td>-44.406000</td>\n",
       "      <td>0.022300</td>\n",
       "      <td>34.765000</td>\n",
       "      <td>0.000000</td>\n",
       "    </tr>\n",
       "    <tr>\n",
       "      <th>25%</th>\n",
       "      <td>38157.250000</td>\n",
       "      <td>0.015200</td>\n",
       "      <td>0.451000</td>\n",
       "      <td>1.775170e+05</td>\n",
       "      <td>0.470000</td>\n",
       "      <td>0.000000</td>\n",
       "      <td>0.097300</td>\n",
       "      <td>-10.255750</td>\n",
       "      <td>0.035600</td>\n",
       "      <td>95.921750</td>\n",
       "      <td>0.272000</td>\n",
       "    </tr>\n",
       "    <tr>\n",
       "      <th>50%</th>\n",
       "      <td>56030.000000</td>\n",
       "      <td>0.120000</td>\n",
       "      <td>0.570000</td>\n",
       "      <td>2.195330e+05</td>\n",
       "      <td>0.666000</td>\n",
       "      <td>0.000144</td>\n",
       "      <td>0.130000</td>\n",
       "      <td>-7.052000</td>\n",
       "      <td>0.049050</td>\n",
       "      <td>120.012500</td>\n",
       "      <td>0.457000</td>\n",
       "    </tr>\n",
       "    <tr>\n",
       "      <th>75%</th>\n",
       "      <td>73912.750000</td>\n",
       "      <td>0.470000</td>\n",
       "      <td>0.683000</td>\n",
       "      <td>2.660000e+05</td>\n",
       "      <td>0.830000</td>\n",
       "      <td>0.084475</td>\n",
       "      <td>0.253000</td>\n",
       "      <td>-5.054000</td>\n",
       "      <td>0.095575</td>\n",
       "      <td>141.966250</td>\n",
       "      <td>0.653000</td>\n",
       "    </tr>\n",
       "    <tr>\n",
       "      <th>max</th>\n",
       "      <td>91758.000000</td>\n",
       "      <td>0.996000</td>\n",
       "      <td>0.978000</td>\n",
       "      <td>4.497994e+06</td>\n",
       "      <td>0.999000</td>\n",
       "      <td>0.996000</td>\n",
       "      <td>1.000000</td>\n",
       "      <td>3.744000</td>\n",
       "      <td>0.942000</td>\n",
       "      <td>220.041000</td>\n",
       "      <td>0.992000</td>\n",
       "    </tr>\n",
       "  </tbody>\n",
       "</table>\n",
       "</div>"
      ],
      "text/plain": [
       "        instance_id  acousticness  danceability   duration_ms        energy  \\\n",
       "count  20394.000000  20394.000000  20394.000000  2.039400e+04  20394.000000   \n",
       "mean   55973.846916      0.274783      0.561983  2.203754e+05      0.625276   \n",
       "std    20695.792545      0.321643      0.171898  1.267283e+05      0.251238   \n",
       "min    20011.000000      0.000000      0.060000 -1.000000e+00      0.001010   \n",
       "25%    38157.250000      0.015200      0.451000  1.775170e+05      0.470000   \n",
       "50%    56030.000000      0.120000      0.570000  2.195330e+05      0.666000   \n",
       "75%    73912.750000      0.470000      0.683000  2.660000e+05      0.830000   \n",
       "max    91758.000000      0.996000      0.978000  4.497994e+06      0.999000   \n",
       "\n",
       "       instrumentalness      liveness      loudness   speechiness  \\\n",
       "count      20394.000000  20394.000000  20394.000000  20394.000000   \n",
       "mean           0.159989      0.198540     -8.552998      0.091352   \n",
       "std            0.306503      0.166742      5.499917      0.097735   \n",
       "min            0.000000      0.013600    -44.406000      0.022300   \n",
       "25%            0.000000      0.097300    -10.255750      0.035600   \n",
       "50%            0.000144      0.130000     -7.052000      0.049050   \n",
       "75%            0.084475      0.253000     -5.054000      0.095575   \n",
       "max            0.996000      1.000000      3.744000      0.942000   \n",
       "\n",
       "              tempo       valence  \n",
       "count  19952.000000  20394.000000  \n",
       "mean     120.942522      0.464588  \n",
       "std       30.427590      0.243387  \n",
       "min       34.765000      0.000000  \n",
       "25%       95.921750      0.272000  \n",
       "50%      120.012500      0.457000  \n",
       "75%      141.966250      0.653000  \n",
       "max      220.041000      0.992000  "
      ]
     },
     "metadata": {},
     "output_type": "display_data"
    },
    {
     "name": "stdout",
     "output_type": "stream",
     "text": [
      "\n",
      "==================================================\n",
      "\n",
      "Форма данных (количество строк, количество столбцов): (20394, 16)\n"
     ]
    }
   ],
   "source": [
    "analyze_dataset(df_train)"
   ]
  },
  {
   "cell_type": "code",
   "execution_count": 6,
   "id": "072ee2c6",
   "metadata": {},
   "outputs": [
    {
     "name": "stdout",
     "output_type": "stream",
     "text": [
      "Первые 5 строк:\n"
     ]
    },
    {
     "data": {
      "text/html": [
       "<div>\n",
       "<style scoped>\n",
       "    .dataframe tbody tr th:only-of-type {\n",
       "        vertical-align: middle;\n",
       "    }\n",
       "\n",
       "    .dataframe tbody tr th {\n",
       "        vertical-align: top;\n",
       "    }\n",
       "\n",
       "    .dataframe thead th {\n",
       "        text-align: right;\n",
       "    }\n",
       "</style>\n",
       "<table border=\"1\" class=\"dataframe\">\n",
       "  <thead>\n",
       "    <tr style=\"text-align: right;\">\n",
       "      <th></th>\n",
       "      <th>instance_id</th>\n",
       "      <th>track_name</th>\n",
       "      <th>acousticness</th>\n",
       "      <th>danceability</th>\n",
       "      <th>duration_ms</th>\n",
       "      <th>energy</th>\n",
       "      <th>instrumentalness</th>\n",
       "      <th>key</th>\n",
       "      <th>liveness</th>\n",
       "      <th>loudness</th>\n",
       "      <th>mode</th>\n",
       "      <th>speechiness</th>\n",
       "      <th>tempo</th>\n",
       "      <th>obtained_date</th>\n",
       "      <th>valence</th>\n",
       "    </tr>\n",
       "  </thead>\n",
       "  <tbody>\n",
       "    <tr>\n",
       "      <th>0</th>\n",
       "      <td>48564</td>\n",
       "      <td>Low Class Conspiracy</td>\n",
       "      <td>0.301000</td>\n",
       "      <td>0.757</td>\n",
       "      <td>146213.0</td>\n",
       "      <td>0.679</td>\n",
       "      <td>0.00000</td>\n",
       "      <td>A#</td>\n",
       "      <td>0.3030</td>\n",
       "      <td>-7.136</td>\n",
       "      <td>Minor</td>\n",
       "      <td>0.3560</td>\n",
       "      <td>90.361</td>\n",
       "      <td>4-Apr</td>\n",
       "      <td>0.895</td>\n",
       "    </tr>\n",
       "    <tr>\n",
       "      <th>1</th>\n",
       "      <td>72394</td>\n",
       "      <td>The Hunter</td>\n",
       "      <td>0.538000</td>\n",
       "      <td>0.256</td>\n",
       "      <td>240360.0</td>\n",
       "      <td>0.523</td>\n",
       "      <td>0.00832</td>\n",
       "      <td>G#</td>\n",
       "      <td>0.0849</td>\n",
       "      <td>-5.175</td>\n",
       "      <td>Major</td>\n",
       "      <td>0.0294</td>\n",
       "      <td>78.385</td>\n",
       "      <td>4-Apr</td>\n",
       "      <td>0.318</td>\n",
       "    </tr>\n",
       "    <tr>\n",
       "      <th>2</th>\n",
       "      <td>88081</td>\n",
       "      <td>Hate Me Now</td>\n",
       "      <td>0.005830</td>\n",
       "      <td>0.678</td>\n",
       "      <td>284000.0</td>\n",
       "      <td>0.770</td>\n",
       "      <td>0.00000</td>\n",
       "      <td>A</td>\n",
       "      <td>0.1090</td>\n",
       "      <td>-4.399</td>\n",
       "      <td>Minor</td>\n",
       "      <td>0.2220</td>\n",
       "      <td>90.000</td>\n",
       "      <td>4-Apr</td>\n",
       "      <td>0.412</td>\n",
       "    </tr>\n",
       "    <tr>\n",
       "      <th>3</th>\n",
       "      <td>78331</td>\n",
       "      <td>Somebody Ain't You</td>\n",
       "      <td>0.020300</td>\n",
       "      <td>0.592</td>\n",
       "      <td>177354.0</td>\n",
       "      <td>0.749</td>\n",
       "      <td>0.00000</td>\n",
       "      <td>B</td>\n",
       "      <td>0.1220</td>\n",
       "      <td>-4.604</td>\n",
       "      <td>Major</td>\n",
       "      <td>0.0483</td>\n",
       "      <td>160.046</td>\n",
       "      <td>4-Apr</td>\n",
       "      <td>0.614</td>\n",
       "    </tr>\n",
       "    <tr>\n",
       "      <th>4</th>\n",
       "      <td>72636</td>\n",
       "      <td>Sour Mango</td>\n",
       "      <td>0.000335</td>\n",
       "      <td>0.421</td>\n",
       "      <td>-1.0</td>\n",
       "      <td>0.447</td>\n",
       "      <td>0.01480</td>\n",
       "      <td>D</td>\n",
       "      <td>0.0374</td>\n",
       "      <td>-8.833</td>\n",
       "      <td>Major</td>\n",
       "      <td>0.2020</td>\n",
       "      <td>73.830</td>\n",
       "      <td>4-Apr</td>\n",
       "      <td>0.121</td>\n",
       "    </tr>\n",
       "  </tbody>\n",
       "</table>\n",
       "</div>"
      ],
      "text/plain": [
       "   instance_id            track_name  acousticness  danceability  duration_ms  \\\n",
       "0        48564  Low Class Conspiracy      0.301000         0.757     146213.0   \n",
       "1        72394            The Hunter      0.538000         0.256     240360.0   \n",
       "2        88081           Hate Me Now      0.005830         0.678     284000.0   \n",
       "3        78331    Somebody Ain't You      0.020300         0.592     177354.0   \n",
       "4        72636            Sour Mango      0.000335         0.421         -1.0   \n",
       "\n",
       "   energy  instrumentalness key  liveness  loudness   mode  speechiness  \\\n",
       "0   0.679           0.00000  A#    0.3030    -7.136  Minor       0.3560   \n",
       "1   0.523           0.00832  G#    0.0849    -5.175  Major       0.0294   \n",
       "2   0.770           0.00000   A    0.1090    -4.399  Minor       0.2220   \n",
       "3   0.749           0.00000   B    0.1220    -4.604  Major       0.0483   \n",
       "4   0.447           0.01480   D    0.0374    -8.833  Major       0.2020   \n",
       "\n",
       "     tempo obtained_date  valence  \n",
       "0   90.361         4-Apr    0.895  \n",
       "1   78.385         4-Apr    0.318  \n",
       "2   90.000         4-Apr    0.412  \n",
       "3  160.046         4-Apr    0.614  \n",
       "4   73.830         4-Apr    0.121  "
      ]
     },
     "metadata": {},
     "output_type": "display_data"
    },
    {
     "name": "stdout",
     "output_type": "stream",
     "text": [
      "\n",
      "==================================================\n",
      "\n",
      "Информация о данных:\n",
      "<class 'pandas.core.frame.DataFrame'>\n",
      "RangeIndex: 5099 entries, 0 to 5098\n",
      "Data columns (total 15 columns):\n",
      " #   Column            Non-Null Count  Dtype  \n",
      "---  ------            --------------  -----  \n",
      " 0   instance_id       5099 non-null   int64  \n",
      " 1   track_name        5099 non-null   object \n",
      " 2   acousticness      5099 non-null   float64\n",
      " 3   danceability      5099 non-null   float64\n",
      " 4   duration_ms       5099 non-null   float64\n",
      " 5   energy            5099 non-null   float64\n",
      " 6   instrumentalness  5099 non-null   float64\n",
      " 7   key               4941 non-null   object \n",
      " 8   liveness          5099 non-null   float64\n",
      " 9   loudness          5099 non-null   float64\n",
      " 10  mode              4950 non-null   object \n",
      " 11  speechiness       5099 non-null   float64\n",
      " 12  tempo             4978 non-null   float64\n",
      " 13  obtained_date     5099 non-null   object \n",
      " 14  valence           5099 non-null   float64\n",
      "dtypes: float64(10), int64(1), object(4)\n",
      "memory usage: 597.7+ KB\n",
      "None\n",
      "\n",
      "==================================================\n",
      "\n",
      "Количество дубликатов: 0\n",
      "\n",
      "==================================================\n",
      "\n",
      "Пропуски в данных:\n",
      "instance_id           0\n",
      "track_name            0\n",
      "acousticness          0\n",
      "danceability          0\n",
      "duration_ms           0\n",
      "energy                0\n",
      "instrumentalness      0\n",
      "key                 158\n",
      "liveness              0\n",
      "loudness              0\n",
      "mode                149\n",
      "speechiness           0\n",
      "tempo               121\n",
      "obtained_date         0\n",
      "valence               0\n",
      "dtype: int64\n",
      "\n",
      "==================================================\n",
      "\n",
      "Описательная статистика:\n"
     ]
    },
    {
     "data": {
      "text/html": [
       "<div>\n",
       "<style scoped>\n",
       "    .dataframe tbody tr th:only-of-type {\n",
       "        vertical-align: middle;\n",
       "    }\n",
       "\n",
       "    .dataframe tbody tr th {\n",
       "        vertical-align: top;\n",
       "    }\n",
       "\n",
       "    .dataframe thead th {\n",
       "        text-align: right;\n",
       "    }\n",
       "</style>\n",
       "<table border=\"1\" class=\"dataframe\">\n",
       "  <thead>\n",
       "    <tr style=\"text-align: right;\">\n",
       "      <th></th>\n",
       "      <th>instance_id</th>\n",
       "      <th>acousticness</th>\n",
       "      <th>danceability</th>\n",
       "      <th>duration_ms</th>\n",
       "      <th>energy</th>\n",
       "      <th>instrumentalness</th>\n",
       "      <th>liveness</th>\n",
       "      <th>loudness</th>\n",
       "      <th>speechiness</th>\n",
       "      <th>tempo</th>\n",
       "      <th>valence</th>\n",
       "    </tr>\n",
       "  </thead>\n",
       "  <tbody>\n",
       "    <tr>\n",
       "      <th>count</th>\n",
       "      <td>5099.000000</td>\n",
       "      <td>5099.000000</td>\n",
       "      <td>5099.000000</td>\n",
       "      <td>5.099000e+03</td>\n",
       "      <td>5099.000000</td>\n",
       "      <td>5099.000000</td>\n",
       "      <td>5099.000000</td>\n",
       "      <td>5099.000000</td>\n",
       "      <td>5099.000000</td>\n",
       "      <td>4978.000000</td>\n",
       "      <td>5099.000000</td>\n",
       "    </tr>\n",
       "    <tr>\n",
       "      <th>mean</th>\n",
       "      <td>55643.871347</td>\n",
       "      <td>0.276324</td>\n",
       "      <td>0.561888</td>\n",
       "      <td>2.173974e+05</td>\n",
       "      <td>0.622030</td>\n",
       "      <td>0.165198</td>\n",
       "      <td>0.197924</td>\n",
       "      <td>-8.630186</td>\n",
       "      <td>0.092718</td>\n",
       "      <td>121.246463</td>\n",
       "      <td>0.465593</td>\n",
       "    </tr>\n",
       "    <tr>\n",
       "      <th>std</th>\n",
       "      <td>20762.384803</td>\n",
       "      <td>0.322657</td>\n",
       "      <td>0.170502</td>\n",
       "      <td>1.156374e+05</td>\n",
       "      <td>0.251829</td>\n",
       "      <td>0.311940</td>\n",
       "      <td>0.166241</td>\n",
       "      <td>5.619766</td>\n",
       "      <td>0.100130</td>\n",
       "      <td>29.875950</td>\n",
       "      <td>0.244217</td>\n",
       "    </tr>\n",
       "    <tr>\n",
       "      <th>min</th>\n",
       "      <td>20012.000000</td>\n",
       "      <td>0.000002</td>\n",
       "      <td>0.059600</td>\n",
       "      <td>-1.000000e+00</td>\n",
       "      <td>0.001540</td>\n",
       "      <td>0.000000</td>\n",
       "      <td>0.020400</td>\n",
       "      <td>-46.122000</td>\n",
       "      <td>0.022600</td>\n",
       "      <td>37.114000</td>\n",
       "      <td>0.020500</td>\n",
       "    </tr>\n",
       "    <tr>\n",
       "      <th>25%</th>\n",
       "      <td>37571.000000</td>\n",
       "      <td>0.016600</td>\n",
       "      <td>0.451000</td>\n",
       "      <td>1.737335e+05</td>\n",
       "      <td>0.465000</td>\n",
       "      <td>0.000000</td>\n",
       "      <td>0.096950</td>\n",
       "      <td>-10.231000</td>\n",
       "      <td>0.035700</td>\n",
       "      <td>96.070250</td>\n",
       "      <td>0.272000</td>\n",
       "    </tr>\n",
       "    <tr>\n",
       "      <th>50%</th>\n",
       "      <td>55246.000000</td>\n",
       "      <td>0.120000</td>\n",
       "      <td>0.568000</td>\n",
       "      <td>2.175000e+05</td>\n",
       "      <td>0.660000</td>\n",
       "      <td>0.000157</td>\n",
       "      <td>0.129000</td>\n",
       "      <td>-7.135000</td>\n",
       "      <td>0.048700</td>\n",
       "      <td>120.053500</td>\n",
       "      <td>0.458000</td>\n",
       "    </tr>\n",
       "    <tr>\n",
       "      <th>75%</th>\n",
       "      <td>73702.000000</td>\n",
       "      <td>0.460000</td>\n",
       "      <td>0.681000</td>\n",
       "      <td>2.642470e+05</td>\n",
       "      <td>0.826000</td>\n",
       "      <td>0.092750</td>\n",
       "      <td>0.248000</td>\n",
       "      <td>-5.127000</td>\n",
       "      <td>0.096550</td>\n",
       "      <td>141.934250</td>\n",
       "      <td>0.650000</td>\n",
       "    </tr>\n",
       "    <tr>\n",
       "      <th>max</th>\n",
       "      <td>91709.000000</td>\n",
       "      <td>0.996000</td>\n",
       "      <td>0.977000</td>\n",
       "      <td>1.360027e+06</td>\n",
       "      <td>0.999000</td>\n",
       "      <td>0.994000</td>\n",
       "      <td>0.990000</td>\n",
       "      <td>1.949000</td>\n",
       "      <td>0.918000</td>\n",
       "      <td>216.029000</td>\n",
       "      <td>0.982000</td>\n",
       "    </tr>\n",
       "  </tbody>\n",
       "</table>\n",
       "</div>"
      ],
      "text/plain": [
       "        instance_id  acousticness  danceability   duration_ms       energy  \\\n",
       "count   5099.000000   5099.000000   5099.000000  5.099000e+03  5099.000000   \n",
       "mean   55643.871347      0.276324      0.561888  2.173974e+05     0.622030   \n",
       "std    20762.384803      0.322657      0.170502  1.156374e+05     0.251829   \n",
       "min    20012.000000      0.000002      0.059600 -1.000000e+00     0.001540   \n",
       "25%    37571.000000      0.016600      0.451000  1.737335e+05     0.465000   \n",
       "50%    55246.000000      0.120000      0.568000  2.175000e+05     0.660000   \n",
       "75%    73702.000000      0.460000      0.681000  2.642470e+05     0.826000   \n",
       "max    91709.000000      0.996000      0.977000  1.360027e+06     0.999000   \n",
       "\n",
       "       instrumentalness     liveness     loudness  speechiness        tempo  \\\n",
       "count       5099.000000  5099.000000  5099.000000  5099.000000  4978.000000   \n",
       "mean           0.165198     0.197924    -8.630186     0.092718   121.246463   \n",
       "std            0.311940     0.166241     5.619766     0.100130    29.875950   \n",
       "min            0.000000     0.020400   -46.122000     0.022600    37.114000   \n",
       "25%            0.000000     0.096950   -10.231000     0.035700    96.070250   \n",
       "50%            0.000157     0.129000    -7.135000     0.048700   120.053500   \n",
       "75%            0.092750     0.248000    -5.127000     0.096550   141.934250   \n",
       "max            0.994000     0.990000     1.949000     0.918000   216.029000   \n",
       "\n",
       "           valence  \n",
       "count  5099.000000  \n",
       "mean      0.465593  \n",
       "std       0.244217  \n",
       "min       0.020500  \n",
       "25%       0.272000  \n",
       "50%       0.458000  \n",
       "75%       0.650000  \n",
       "max       0.982000  "
      ]
     },
     "metadata": {},
     "output_type": "display_data"
    },
    {
     "name": "stdout",
     "output_type": "stream",
     "text": [
      "\n",
      "==================================================\n",
      "\n",
      "Форма данных (количество строк, количество столбцов): (5099, 15)\n"
     ]
    }
   ],
   "source": [
    "analyze_dataset(df_test)"
   ]
  },
  {
   "cell_type": "markdown",
   "id": "2479e743",
   "metadata": {},
   "source": [
    "Перепроверим наличие дубликатов без учёта номера композиции, который уйдёт в индекс."
   ]
  },
  {
   "cell_type": "code",
   "execution_count": 7,
   "id": "72eb9629",
   "metadata": {},
   "outputs": [],
   "source": [
    "df_train['instance_id'] = df_train['instance_id'].astype(int)\n",
    "df_train = df_train.set_index('instance_id', drop=True)"
   ]
  },
  {
   "cell_type": "code",
   "execution_count": 8,
   "id": "afddb2ca",
   "metadata": {},
   "outputs": [
    {
     "name": "stdout",
     "output_type": "stream",
     "text": [
      "Первые 5 строк:\n"
     ]
    },
    {
     "data": {
      "text/html": [
       "<div>\n",
       "<style scoped>\n",
       "    .dataframe tbody tr th:only-of-type {\n",
       "        vertical-align: middle;\n",
       "    }\n",
       "\n",
       "    .dataframe tbody tr th {\n",
       "        vertical-align: top;\n",
       "    }\n",
       "\n",
       "    .dataframe thead th {\n",
       "        text-align: right;\n",
       "    }\n",
       "</style>\n",
       "<table border=\"1\" class=\"dataframe\">\n",
       "  <thead>\n",
       "    <tr style=\"text-align: right;\">\n",
       "      <th></th>\n",
       "      <th>track_name</th>\n",
       "      <th>acousticness</th>\n",
       "      <th>danceability</th>\n",
       "      <th>duration_ms</th>\n",
       "      <th>energy</th>\n",
       "      <th>instrumentalness</th>\n",
       "      <th>key</th>\n",
       "      <th>liveness</th>\n",
       "      <th>loudness</th>\n",
       "      <th>mode</th>\n",
       "      <th>speechiness</th>\n",
       "      <th>tempo</th>\n",
       "      <th>obtained_date</th>\n",
       "      <th>valence</th>\n",
       "      <th>music_genre</th>\n",
       "    </tr>\n",
       "    <tr>\n",
       "      <th>instance_id</th>\n",
       "      <th></th>\n",
       "      <th></th>\n",
       "      <th></th>\n",
       "      <th></th>\n",
       "      <th></th>\n",
       "      <th></th>\n",
       "      <th></th>\n",
       "      <th></th>\n",
       "      <th></th>\n",
       "      <th></th>\n",
       "      <th></th>\n",
       "      <th></th>\n",
       "      <th></th>\n",
       "      <th></th>\n",
       "      <th></th>\n",
       "    </tr>\n",
       "  </thead>\n",
       "  <tbody>\n",
       "    <tr>\n",
       "      <th>25143</th>\n",
       "      <td>Highwayman</td>\n",
       "      <td>0.4800</td>\n",
       "      <td>0.670</td>\n",
       "      <td>182653.0</td>\n",
       "      <td>0.351</td>\n",
       "      <td>0.017600</td>\n",
       "      <td>D</td>\n",
       "      <td>0.115</td>\n",
       "      <td>-16.842</td>\n",
       "      <td>Major</td>\n",
       "      <td>0.0463</td>\n",
       "      <td>101.384</td>\n",
       "      <td>4-Apr</td>\n",
       "      <td>0.450</td>\n",
       "      <td>Country</td>\n",
       "    </tr>\n",
       "    <tr>\n",
       "      <th>26091</th>\n",
       "      <td>Toes Across The Floor</td>\n",
       "      <td>0.2430</td>\n",
       "      <td>0.452</td>\n",
       "      <td>187133.0</td>\n",
       "      <td>0.670</td>\n",
       "      <td>0.000051</td>\n",
       "      <td>A</td>\n",
       "      <td>0.108</td>\n",
       "      <td>-8.392</td>\n",
       "      <td>Minor</td>\n",
       "      <td>0.0352</td>\n",
       "      <td>113.071</td>\n",
       "      <td>4-Apr</td>\n",
       "      <td>0.539</td>\n",
       "      <td>Rock</td>\n",
       "    </tr>\n",
       "    <tr>\n",
       "      <th>87888</th>\n",
       "      <td>First Person on Earth</td>\n",
       "      <td>0.2280</td>\n",
       "      <td>0.454</td>\n",
       "      <td>173448.0</td>\n",
       "      <td>0.804</td>\n",
       "      <td>0.000000</td>\n",
       "      <td>E</td>\n",
       "      <td>0.181</td>\n",
       "      <td>-5.225</td>\n",
       "      <td>Minor</td>\n",
       "      <td>0.3710</td>\n",
       "      <td>80.980</td>\n",
       "      <td>4-Apr</td>\n",
       "      <td>0.344</td>\n",
       "      <td>Alternative</td>\n",
       "    </tr>\n",
       "    <tr>\n",
       "      <th>77021</th>\n",
       "      <td>No Te Veo - Digital Single</td>\n",
       "      <td>0.0558</td>\n",
       "      <td>0.847</td>\n",
       "      <td>255987.0</td>\n",
       "      <td>0.873</td>\n",
       "      <td>0.000003</td>\n",
       "      <td>G#</td>\n",
       "      <td>0.325</td>\n",
       "      <td>-4.805</td>\n",
       "      <td>Minor</td>\n",
       "      <td>0.0804</td>\n",
       "      <td>116.007</td>\n",
       "      <td>4-Apr</td>\n",
       "      <td>0.966</td>\n",
       "      <td>Hip-Hop</td>\n",
       "    </tr>\n",
       "    <tr>\n",
       "      <th>20852</th>\n",
       "      <td>Chasing Shadows</td>\n",
       "      <td>0.2270</td>\n",
       "      <td>0.742</td>\n",
       "      <td>195333.0</td>\n",
       "      <td>0.575</td>\n",
       "      <td>0.000002</td>\n",
       "      <td>C</td>\n",
       "      <td>0.176</td>\n",
       "      <td>-5.550</td>\n",
       "      <td>Major</td>\n",
       "      <td>0.0487</td>\n",
       "      <td>76.494</td>\n",
       "      <td>4-Apr</td>\n",
       "      <td>0.583</td>\n",
       "      <td>Alternative</td>\n",
       "    </tr>\n",
       "  </tbody>\n",
       "</table>\n",
       "</div>"
      ],
      "text/plain": [
       "                             track_name  acousticness  danceability  \\\n",
       "instance_id                                                           \n",
       "25143                        Highwayman        0.4800         0.670   \n",
       "26091             Toes Across The Floor        0.2430         0.452   \n",
       "87888             First Person on Earth        0.2280         0.454   \n",
       "77021        No Te Veo - Digital Single        0.0558         0.847   \n",
       "20852                   Chasing Shadows        0.2270         0.742   \n",
       "\n",
       "             duration_ms  energy  instrumentalness key  liveness  loudness  \\\n",
       "instance_id                                                                  \n",
       "25143           182653.0   0.351          0.017600   D     0.115   -16.842   \n",
       "26091           187133.0   0.670          0.000051   A     0.108    -8.392   \n",
       "87888           173448.0   0.804          0.000000   E     0.181    -5.225   \n",
       "77021           255987.0   0.873          0.000003  G#     0.325    -4.805   \n",
       "20852           195333.0   0.575          0.000002   C     0.176    -5.550   \n",
       "\n",
       "              mode  speechiness    tempo obtained_date  valence  music_genre  \n",
       "instance_id                                                                   \n",
       "25143        Major       0.0463  101.384         4-Apr    0.450      Country  \n",
       "26091        Minor       0.0352  113.071         4-Apr    0.539         Rock  \n",
       "87888        Minor       0.3710   80.980         4-Apr    0.344  Alternative  \n",
       "77021        Minor       0.0804  116.007         4-Apr    0.966      Hip-Hop  \n",
       "20852        Major       0.0487   76.494         4-Apr    0.583  Alternative  "
      ]
     },
     "metadata": {},
     "output_type": "display_data"
    },
    {
     "name": "stdout",
     "output_type": "stream",
     "text": [
      "\n",
      "==================================================\n",
      "\n",
      "Информация о данных:\n",
      "<class 'pandas.core.frame.DataFrame'>\n",
      "Int64Index: 20394 entries, 25143 to 86375\n",
      "Data columns (total 15 columns):\n",
      " #   Column            Non-Null Count  Dtype  \n",
      "---  ------            --------------  -----  \n",
      " 0   track_name        20394 non-null  object \n",
      " 1   acousticness      20394 non-null  float64\n",
      " 2   danceability      20394 non-null  float64\n",
      " 3   duration_ms       20394 non-null  float64\n",
      " 4   energy            20394 non-null  float64\n",
      " 5   instrumentalness  20394 non-null  float64\n",
      " 6   key               19659 non-null  object \n",
      " 7   liveness          20394 non-null  float64\n",
      " 8   loudness          20394 non-null  float64\n",
      " 9   mode              19888 non-null  object \n",
      " 10  speechiness       20394 non-null  float64\n",
      " 11  tempo             19952 non-null  float64\n",
      " 12  obtained_date     20394 non-null  object \n",
      " 13  valence           20394 non-null  float64\n",
      " 14  music_genre       20394 non-null  object \n",
      "dtypes: float64(10), object(5)\n",
      "memory usage: 2.5+ MB\n",
      "None\n",
      "\n",
      "==================================================\n",
      "\n",
      "Количество дубликатов: 1\n",
      "\n",
      "==================================================\n",
      "\n",
      "Пропуски в данных:\n",
      "track_name            0\n",
      "acousticness          0\n",
      "danceability          0\n",
      "duration_ms           0\n",
      "energy                0\n",
      "instrumentalness      0\n",
      "key                 735\n",
      "liveness              0\n",
      "loudness              0\n",
      "mode                506\n",
      "speechiness           0\n",
      "tempo               442\n",
      "obtained_date         0\n",
      "valence               0\n",
      "music_genre           0\n",
      "dtype: int64\n",
      "\n",
      "==================================================\n",
      "\n",
      "Описательная статистика:\n"
     ]
    },
    {
     "data": {
      "text/html": [
       "<div>\n",
       "<style scoped>\n",
       "    .dataframe tbody tr th:only-of-type {\n",
       "        vertical-align: middle;\n",
       "    }\n",
       "\n",
       "    .dataframe tbody tr th {\n",
       "        vertical-align: top;\n",
       "    }\n",
       "\n",
       "    .dataframe thead th {\n",
       "        text-align: right;\n",
       "    }\n",
       "</style>\n",
       "<table border=\"1\" class=\"dataframe\">\n",
       "  <thead>\n",
       "    <tr style=\"text-align: right;\">\n",
       "      <th></th>\n",
       "      <th>acousticness</th>\n",
       "      <th>danceability</th>\n",
       "      <th>duration_ms</th>\n",
       "      <th>energy</th>\n",
       "      <th>instrumentalness</th>\n",
       "      <th>liveness</th>\n",
       "      <th>loudness</th>\n",
       "      <th>speechiness</th>\n",
       "      <th>tempo</th>\n",
       "      <th>valence</th>\n",
       "    </tr>\n",
       "  </thead>\n",
       "  <tbody>\n",
       "    <tr>\n",
       "      <th>count</th>\n",
       "      <td>20394.000000</td>\n",
       "      <td>20394.000000</td>\n",
       "      <td>2.039400e+04</td>\n",
       "      <td>20394.000000</td>\n",
       "      <td>20394.000000</td>\n",
       "      <td>20394.000000</td>\n",
       "      <td>20394.000000</td>\n",
       "      <td>20394.000000</td>\n",
       "      <td>19952.000000</td>\n",
       "      <td>20394.000000</td>\n",
       "    </tr>\n",
       "    <tr>\n",
       "      <th>mean</th>\n",
       "      <td>0.274783</td>\n",
       "      <td>0.561983</td>\n",
       "      <td>2.203754e+05</td>\n",
       "      <td>0.625276</td>\n",
       "      <td>0.159989</td>\n",
       "      <td>0.198540</td>\n",
       "      <td>-8.552998</td>\n",
       "      <td>0.091352</td>\n",
       "      <td>120.942522</td>\n",
       "      <td>0.464588</td>\n",
       "    </tr>\n",
       "    <tr>\n",
       "      <th>std</th>\n",
       "      <td>0.321643</td>\n",
       "      <td>0.171898</td>\n",
       "      <td>1.267283e+05</td>\n",
       "      <td>0.251238</td>\n",
       "      <td>0.306503</td>\n",
       "      <td>0.166742</td>\n",
       "      <td>5.499917</td>\n",
       "      <td>0.097735</td>\n",
       "      <td>30.427590</td>\n",
       "      <td>0.243387</td>\n",
       "    </tr>\n",
       "    <tr>\n",
       "      <th>min</th>\n",
       "      <td>0.000000</td>\n",
       "      <td>0.060000</td>\n",
       "      <td>-1.000000e+00</td>\n",
       "      <td>0.001010</td>\n",
       "      <td>0.000000</td>\n",
       "      <td>0.013600</td>\n",
       "      <td>-44.406000</td>\n",
       "      <td>0.022300</td>\n",
       "      <td>34.765000</td>\n",
       "      <td>0.000000</td>\n",
       "    </tr>\n",
       "    <tr>\n",
       "      <th>25%</th>\n",
       "      <td>0.015200</td>\n",
       "      <td>0.451000</td>\n",
       "      <td>1.775170e+05</td>\n",
       "      <td>0.470000</td>\n",
       "      <td>0.000000</td>\n",
       "      <td>0.097300</td>\n",
       "      <td>-10.255750</td>\n",
       "      <td>0.035600</td>\n",
       "      <td>95.921750</td>\n",
       "      <td>0.272000</td>\n",
       "    </tr>\n",
       "    <tr>\n",
       "      <th>50%</th>\n",
       "      <td>0.120000</td>\n",
       "      <td>0.570000</td>\n",
       "      <td>2.195330e+05</td>\n",
       "      <td>0.666000</td>\n",
       "      <td>0.000144</td>\n",
       "      <td>0.130000</td>\n",
       "      <td>-7.052000</td>\n",
       "      <td>0.049050</td>\n",
       "      <td>120.012500</td>\n",
       "      <td>0.457000</td>\n",
       "    </tr>\n",
       "    <tr>\n",
       "      <th>75%</th>\n",
       "      <td>0.470000</td>\n",
       "      <td>0.683000</td>\n",
       "      <td>2.660000e+05</td>\n",
       "      <td>0.830000</td>\n",
       "      <td>0.084475</td>\n",
       "      <td>0.253000</td>\n",
       "      <td>-5.054000</td>\n",
       "      <td>0.095575</td>\n",
       "      <td>141.966250</td>\n",
       "      <td>0.653000</td>\n",
       "    </tr>\n",
       "    <tr>\n",
       "      <th>max</th>\n",
       "      <td>0.996000</td>\n",
       "      <td>0.978000</td>\n",
       "      <td>4.497994e+06</td>\n",
       "      <td>0.999000</td>\n",
       "      <td>0.996000</td>\n",
       "      <td>1.000000</td>\n",
       "      <td>3.744000</td>\n",
       "      <td>0.942000</td>\n",
       "      <td>220.041000</td>\n",
       "      <td>0.992000</td>\n",
       "    </tr>\n",
       "  </tbody>\n",
       "</table>\n",
       "</div>"
      ],
      "text/plain": [
       "       acousticness  danceability   duration_ms        energy  \\\n",
       "count  20394.000000  20394.000000  2.039400e+04  20394.000000   \n",
       "mean       0.274783      0.561983  2.203754e+05      0.625276   \n",
       "std        0.321643      0.171898  1.267283e+05      0.251238   \n",
       "min        0.000000      0.060000 -1.000000e+00      0.001010   \n",
       "25%        0.015200      0.451000  1.775170e+05      0.470000   \n",
       "50%        0.120000      0.570000  2.195330e+05      0.666000   \n",
       "75%        0.470000      0.683000  2.660000e+05      0.830000   \n",
       "max        0.996000      0.978000  4.497994e+06      0.999000   \n",
       "\n",
       "       instrumentalness      liveness      loudness   speechiness  \\\n",
       "count      20394.000000  20394.000000  20394.000000  20394.000000   \n",
       "mean           0.159989      0.198540     -8.552998      0.091352   \n",
       "std            0.306503      0.166742      5.499917      0.097735   \n",
       "min            0.000000      0.013600    -44.406000      0.022300   \n",
       "25%            0.000000      0.097300    -10.255750      0.035600   \n",
       "50%            0.000144      0.130000     -7.052000      0.049050   \n",
       "75%            0.084475      0.253000     -5.054000      0.095575   \n",
       "max            0.996000      1.000000      3.744000      0.942000   \n",
       "\n",
       "              tempo       valence  \n",
       "count  19952.000000  20394.000000  \n",
       "mean     120.942522      0.464588  \n",
       "std       30.427590      0.243387  \n",
       "min       34.765000      0.000000  \n",
       "25%       95.921750      0.272000  \n",
       "50%      120.012500      0.457000  \n",
       "75%      141.966250      0.653000  \n",
       "max      220.041000      0.992000  "
      ]
     },
     "metadata": {},
     "output_type": "display_data"
    },
    {
     "name": "stdout",
     "output_type": "stream",
     "text": [
      "\n",
      "==================================================\n",
      "\n",
      "Форма данных (количество строк, количество столбцов): (20394, 15)\n"
     ]
    }
   ],
   "source": [
    "analyze_dataset(df_train)"
   ]
  },
  {
   "cell_type": "code",
   "execution_count": 9,
   "id": "5c69f78a",
   "metadata": {},
   "outputs": [],
   "source": [
    "df_train = df_train.drop_duplicates(keep='first')"
   ]
  },
  {
   "cell_type": "code",
   "execution_count": 10,
   "id": "518a97b6",
   "metadata": {},
   "outputs": [],
   "source": [
    "df_test['instance_id'] = df_test['instance_id'].astype(int)\n",
    "df_test = df_test.set_index('instance_id', drop=True)"
   ]
  },
  {
   "cell_type": "code",
   "execution_count": 11,
   "id": "01f211e9",
   "metadata": {},
   "outputs": [
    {
     "name": "stdout",
     "output_type": "stream",
     "text": [
      "Первые 5 строк:\n"
     ]
    },
    {
     "data": {
      "text/html": [
       "<div>\n",
       "<style scoped>\n",
       "    .dataframe tbody tr th:only-of-type {\n",
       "        vertical-align: middle;\n",
       "    }\n",
       "\n",
       "    .dataframe tbody tr th {\n",
       "        vertical-align: top;\n",
       "    }\n",
       "\n",
       "    .dataframe thead th {\n",
       "        text-align: right;\n",
       "    }\n",
       "</style>\n",
       "<table border=\"1\" class=\"dataframe\">\n",
       "  <thead>\n",
       "    <tr style=\"text-align: right;\">\n",
       "      <th></th>\n",
       "      <th>track_name</th>\n",
       "      <th>acousticness</th>\n",
       "      <th>danceability</th>\n",
       "      <th>duration_ms</th>\n",
       "      <th>energy</th>\n",
       "      <th>instrumentalness</th>\n",
       "      <th>key</th>\n",
       "      <th>liveness</th>\n",
       "      <th>loudness</th>\n",
       "      <th>mode</th>\n",
       "      <th>speechiness</th>\n",
       "      <th>tempo</th>\n",
       "      <th>obtained_date</th>\n",
       "      <th>valence</th>\n",
       "    </tr>\n",
       "    <tr>\n",
       "      <th>instance_id</th>\n",
       "      <th></th>\n",
       "      <th></th>\n",
       "      <th></th>\n",
       "      <th></th>\n",
       "      <th></th>\n",
       "      <th></th>\n",
       "      <th></th>\n",
       "      <th></th>\n",
       "      <th></th>\n",
       "      <th></th>\n",
       "      <th></th>\n",
       "      <th></th>\n",
       "      <th></th>\n",
       "      <th></th>\n",
       "    </tr>\n",
       "  </thead>\n",
       "  <tbody>\n",
       "    <tr>\n",
       "      <th>48564</th>\n",
       "      <td>Low Class Conspiracy</td>\n",
       "      <td>0.301000</td>\n",
       "      <td>0.757</td>\n",
       "      <td>146213.0</td>\n",
       "      <td>0.679</td>\n",
       "      <td>0.00000</td>\n",
       "      <td>A#</td>\n",
       "      <td>0.3030</td>\n",
       "      <td>-7.136</td>\n",
       "      <td>Minor</td>\n",
       "      <td>0.3560</td>\n",
       "      <td>90.361</td>\n",
       "      <td>4-Apr</td>\n",
       "      <td>0.895</td>\n",
       "    </tr>\n",
       "    <tr>\n",
       "      <th>72394</th>\n",
       "      <td>The Hunter</td>\n",
       "      <td>0.538000</td>\n",
       "      <td>0.256</td>\n",
       "      <td>240360.0</td>\n",
       "      <td>0.523</td>\n",
       "      <td>0.00832</td>\n",
       "      <td>G#</td>\n",
       "      <td>0.0849</td>\n",
       "      <td>-5.175</td>\n",
       "      <td>Major</td>\n",
       "      <td>0.0294</td>\n",
       "      <td>78.385</td>\n",
       "      <td>4-Apr</td>\n",
       "      <td>0.318</td>\n",
       "    </tr>\n",
       "    <tr>\n",
       "      <th>88081</th>\n",
       "      <td>Hate Me Now</td>\n",
       "      <td>0.005830</td>\n",
       "      <td>0.678</td>\n",
       "      <td>284000.0</td>\n",
       "      <td>0.770</td>\n",
       "      <td>0.00000</td>\n",
       "      <td>A</td>\n",
       "      <td>0.1090</td>\n",
       "      <td>-4.399</td>\n",
       "      <td>Minor</td>\n",
       "      <td>0.2220</td>\n",
       "      <td>90.000</td>\n",
       "      <td>4-Apr</td>\n",
       "      <td>0.412</td>\n",
       "    </tr>\n",
       "    <tr>\n",
       "      <th>78331</th>\n",
       "      <td>Somebody Ain't You</td>\n",
       "      <td>0.020300</td>\n",
       "      <td>0.592</td>\n",
       "      <td>177354.0</td>\n",
       "      <td>0.749</td>\n",
       "      <td>0.00000</td>\n",
       "      <td>B</td>\n",
       "      <td>0.1220</td>\n",
       "      <td>-4.604</td>\n",
       "      <td>Major</td>\n",
       "      <td>0.0483</td>\n",
       "      <td>160.046</td>\n",
       "      <td>4-Apr</td>\n",
       "      <td>0.614</td>\n",
       "    </tr>\n",
       "    <tr>\n",
       "      <th>72636</th>\n",
       "      <td>Sour Mango</td>\n",
       "      <td>0.000335</td>\n",
       "      <td>0.421</td>\n",
       "      <td>-1.0</td>\n",
       "      <td>0.447</td>\n",
       "      <td>0.01480</td>\n",
       "      <td>D</td>\n",
       "      <td>0.0374</td>\n",
       "      <td>-8.833</td>\n",
       "      <td>Major</td>\n",
       "      <td>0.2020</td>\n",
       "      <td>73.830</td>\n",
       "      <td>4-Apr</td>\n",
       "      <td>0.121</td>\n",
       "    </tr>\n",
       "  </tbody>\n",
       "</table>\n",
       "</div>"
      ],
      "text/plain": [
       "                       track_name  acousticness  danceability  duration_ms  \\\n",
       "instance_id                                                                  \n",
       "48564        Low Class Conspiracy      0.301000         0.757     146213.0   \n",
       "72394                  The Hunter      0.538000         0.256     240360.0   \n",
       "88081                 Hate Me Now      0.005830         0.678     284000.0   \n",
       "78331          Somebody Ain't You      0.020300         0.592     177354.0   \n",
       "72636                  Sour Mango      0.000335         0.421         -1.0   \n",
       "\n",
       "             energy  instrumentalness key  liveness  loudness   mode  \\\n",
       "instance_id                                                            \n",
       "48564         0.679           0.00000  A#    0.3030    -7.136  Minor   \n",
       "72394         0.523           0.00832  G#    0.0849    -5.175  Major   \n",
       "88081         0.770           0.00000   A    0.1090    -4.399  Minor   \n",
       "78331         0.749           0.00000   B    0.1220    -4.604  Major   \n",
       "72636         0.447           0.01480   D    0.0374    -8.833  Major   \n",
       "\n",
       "             speechiness    tempo obtained_date  valence  \n",
       "instance_id                                               \n",
       "48564             0.3560   90.361         4-Apr    0.895  \n",
       "72394             0.0294   78.385         4-Apr    0.318  \n",
       "88081             0.2220   90.000         4-Apr    0.412  \n",
       "78331             0.0483  160.046         4-Apr    0.614  \n",
       "72636             0.2020   73.830         4-Apr    0.121  "
      ]
     },
     "metadata": {},
     "output_type": "display_data"
    },
    {
     "name": "stdout",
     "output_type": "stream",
     "text": [
      "\n",
      "==================================================\n",
      "\n",
      "Информация о данных:\n",
      "<class 'pandas.core.frame.DataFrame'>\n",
      "Int64Index: 5099 entries, 48564 to 47986\n",
      "Data columns (total 14 columns):\n",
      " #   Column            Non-Null Count  Dtype  \n",
      "---  ------            --------------  -----  \n",
      " 0   track_name        5099 non-null   object \n",
      " 1   acousticness      5099 non-null   float64\n",
      " 2   danceability      5099 non-null   float64\n",
      " 3   duration_ms       5099 non-null   float64\n",
      " 4   energy            5099 non-null   float64\n",
      " 5   instrumentalness  5099 non-null   float64\n",
      " 6   key               4941 non-null   object \n",
      " 7   liveness          5099 non-null   float64\n",
      " 8   loudness          5099 non-null   float64\n",
      " 9   mode              4950 non-null   object \n",
      " 10  speechiness       5099 non-null   float64\n",
      " 11  tempo             4978 non-null   float64\n",
      " 12  obtained_date     5099 non-null   object \n",
      " 13  valence           5099 non-null   float64\n",
      "dtypes: float64(10), object(4)\n",
      "memory usage: 597.5+ KB\n",
      "None\n",
      "\n",
      "==================================================\n",
      "\n",
      "Количество дубликатов: 30\n",
      "\n",
      "==================================================\n",
      "\n",
      "Пропуски в данных:\n",
      "track_name            0\n",
      "acousticness          0\n",
      "danceability          0\n",
      "duration_ms           0\n",
      "energy                0\n",
      "instrumentalness      0\n",
      "key                 158\n",
      "liveness              0\n",
      "loudness              0\n",
      "mode                149\n",
      "speechiness           0\n",
      "tempo               121\n",
      "obtained_date         0\n",
      "valence               0\n",
      "dtype: int64\n",
      "\n",
      "==================================================\n",
      "\n",
      "Описательная статистика:\n"
     ]
    },
    {
     "data": {
      "text/html": [
       "<div>\n",
       "<style scoped>\n",
       "    .dataframe tbody tr th:only-of-type {\n",
       "        vertical-align: middle;\n",
       "    }\n",
       "\n",
       "    .dataframe tbody tr th {\n",
       "        vertical-align: top;\n",
       "    }\n",
       "\n",
       "    .dataframe thead th {\n",
       "        text-align: right;\n",
       "    }\n",
       "</style>\n",
       "<table border=\"1\" class=\"dataframe\">\n",
       "  <thead>\n",
       "    <tr style=\"text-align: right;\">\n",
       "      <th></th>\n",
       "      <th>acousticness</th>\n",
       "      <th>danceability</th>\n",
       "      <th>duration_ms</th>\n",
       "      <th>energy</th>\n",
       "      <th>instrumentalness</th>\n",
       "      <th>liveness</th>\n",
       "      <th>loudness</th>\n",
       "      <th>speechiness</th>\n",
       "      <th>tempo</th>\n",
       "      <th>valence</th>\n",
       "    </tr>\n",
       "  </thead>\n",
       "  <tbody>\n",
       "    <tr>\n",
       "      <th>count</th>\n",
       "      <td>5099.000000</td>\n",
       "      <td>5099.000000</td>\n",
       "      <td>5.099000e+03</td>\n",
       "      <td>5099.000000</td>\n",
       "      <td>5099.000000</td>\n",
       "      <td>5099.000000</td>\n",
       "      <td>5099.000000</td>\n",
       "      <td>5099.000000</td>\n",
       "      <td>4978.000000</td>\n",
       "      <td>5099.000000</td>\n",
       "    </tr>\n",
       "    <tr>\n",
       "      <th>mean</th>\n",
       "      <td>0.276324</td>\n",
       "      <td>0.561888</td>\n",
       "      <td>2.173974e+05</td>\n",
       "      <td>0.622030</td>\n",
       "      <td>0.165198</td>\n",
       "      <td>0.197924</td>\n",
       "      <td>-8.630186</td>\n",
       "      <td>0.092718</td>\n",
       "      <td>121.246463</td>\n",
       "      <td>0.465593</td>\n",
       "    </tr>\n",
       "    <tr>\n",
       "      <th>std</th>\n",
       "      <td>0.322657</td>\n",
       "      <td>0.170502</td>\n",
       "      <td>1.156374e+05</td>\n",
       "      <td>0.251829</td>\n",
       "      <td>0.311940</td>\n",
       "      <td>0.166241</td>\n",
       "      <td>5.619766</td>\n",
       "      <td>0.100130</td>\n",
       "      <td>29.875950</td>\n",
       "      <td>0.244217</td>\n",
       "    </tr>\n",
       "    <tr>\n",
       "      <th>min</th>\n",
       "      <td>0.000002</td>\n",
       "      <td>0.059600</td>\n",
       "      <td>-1.000000e+00</td>\n",
       "      <td>0.001540</td>\n",
       "      <td>0.000000</td>\n",
       "      <td>0.020400</td>\n",
       "      <td>-46.122000</td>\n",
       "      <td>0.022600</td>\n",
       "      <td>37.114000</td>\n",
       "      <td>0.020500</td>\n",
       "    </tr>\n",
       "    <tr>\n",
       "      <th>25%</th>\n",
       "      <td>0.016600</td>\n",
       "      <td>0.451000</td>\n",
       "      <td>1.737335e+05</td>\n",
       "      <td>0.465000</td>\n",
       "      <td>0.000000</td>\n",
       "      <td>0.096950</td>\n",
       "      <td>-10.231000</td>\n",
       "      <td>0.035700</td>\n",
       "      <td>96.070250</td>\n",
       "      <td>0.272000</td>\n",
       "    </tr>\n",
       "    <tr>\n",
       "      <th>50%</th>\n",
       "      <td>0.120000</td>\n",
       "      <td>0.568000</td>\n",
       "      <td>2.175000e+05</td>\n",
       "      <td>0.660000</td>\n",
       "      <td>0.000157</td>\n",
       "      <td>0.129000</td>\n",
       "      <td>-7.135000</td>\n",
       "      <td>0.048700</td>\n",
       "      <td>120.053500</td>\n",
       "      <td>0.458000</td>\n",
       "    </tr>\n",
       "    <tr>\n",
       "      <th>75%</th>\n",
       "      <td>0.460000</td>\n",
       "      <td>0.681000</td>\n",
       "      <td>2.642470e+05</td>\n",
       "      <td>0.826000</td>\n",
       "      <td>0.092750</td>\n",
       "      <td>0.248000</td>\n",
       "      <td>-5.127000</td>\n",
       "      <td>0.096550</td>\n",
       "      <td>141.934250</td>\n",
       "      <td>0.650000</td>\n",
       "    </tr>\n",
       "    <tr>\n",
       "      <th>max</th>\n",
       "      <td>0.996000</td>\n",
       "      <td>0.977000</td>\n",
       "      <td>1.360027e+06</td>\n",
       "      <td>0.999000</td>\n",
       "      <td>0.994000</td>\n",
       "      <td>0.990000</td>\n",
       "      <td>1.949000</td>\n",
       "      <td>0.918000</td>\n",
       "      <td>216.029000</td>\n",
       "      <td>0.982000</td>\n",
       "    </tr>\n",
       "  </tbody>\n",
       "</table>\n",
       "</div>"
      ],
      "text/plain": [
       "       acousticness  danceability   duration_ms       energy  \\\n",
       "count   5099.000000   5099.000000  5.099000e+03  5099.000000   \n",
       "mean       0.276324      0.561888  2.173974e+05     0.622030   \n",
       "std        0.322657      0.170502  1.156374e+05     0.251829   \n",
       "min        0.000002      0.059600 -1.000000e+00     0.001540   \n",
       "25%        0.016600      0.451000  1.737335e+05     0.465000   \n",
       "50%        0.120000      0.568000  2.175000e+05     0.660000   \n",
       "75%        0.460000      0.681000  2.642470e+05     0.826000   \n",
       "max        0.996000      0.977000  1.360027e+06     0.999000   \n",
       "\n",
       "       instrumentalness     liveness     loudness  speechiness        tempo  \\\n",
       "count       5099.000000  5099.000000  5099.000000  5099.000000  4978.000000   \n",
       "mean           0.165198     0.197924    -8.630186     0.092718   121.246463   \n",
       "std            0.311940     0.166241     5.619766     0.100130    29.875950   \n",
       "min            0.000000     0.020400   -46.122000     0.022600    37.114000   \n",
       "25%            0.000000     0.096950   -10.231000     0.035700    96.070250   \n",
       "50%            0.000157     0.129000    -7.135000     0.048700   120.053500   \n",
       "75%            0.092750     0.248000    -5.127000     0.096550   141.934250   \n",
       "max            0.994000     0.990000     1.949000     0.918000   216.029000   \n",
       "\n",
       "           valence  \n",
       "count  5099.000000  \n",
       "mean      0.465593  \n",
       "std       0.244217  \n",
       "min       0.020500  \n",
       "25%       0.272000  \n",
       "50%       0.458000  \n",
       "75%       0.650000  \n",
       "max       0.982000  "
      ]
     },
     "metadata": {},
     "output_type": "display_data"
    },
    {
     "name": "stdout",
     "output_type": "stream",
     "text": [
      "\n",
      "==================================================\n",
      "\n",
      "Форма данных (количество строк, количество столбцов): (5099, 14)\n"
     ]
    }
   ],
   "source": [
    "analyze_dataset(df_test)"
   ]
  },
  {
   "cell_type": "markdown",
   "id": "3898a575",
   "metadata": {},
   "source": [
    "Первичный анализ данных продемонстрировал наличие пропусков и неявных дубликатов. Вероятно, одни и те же композиции были внесены дважды. В обоих датафреймах представлены категориальные и количественные данные."
   ]
  },
  {
   "cell_type": "markdown",
   "id": "d2fdb18d",
   "metadata": {},
   "source": [
    "## Анализ категориальных данных"
   ]
  },
  {
   "cell_type": "code",
   "execution_count": 12,
   "id": "9f6584cc",
   "metadata": {},
   "outputs": [],
   "source": [
    "cat_columns_train = df_train.select_dtypes(exclude='number').columns\n",
    "num_columns_train = df_train.select_dtypes(include='number').columns\n",
    "cat_columns_test = df_test.select_dtypes(exclude='number').columns\n",
    "num_columns_test = df_test.select_dtypes(include='number').columns"
   ]
  },
  {
   "cell_type": "code",
   "execution_count": 13,
   "id": "3c83687f",
   "metadata": {},
   "outputs": [
    {
     "data": {
      "image/png": "[encoded data removed]",
      "text/plain": [
       "<Figure size 640x480 with 1 Axes>"
      ]
     },
     "metadata": {},
     "output_type": "display_data"
    },
    {
     "name": "stdout",
     "output_type": "stream",
     "text": [
      "Соотношение количества композиций в каждой категории жанра:\n",
      "Blues          2858\n",
      "Alternative    2601\n",
      "Electronic     2563\n",
      "Rap            2428\n",
      "Rock           2165\n",
      "Country        2120\n",
      "Anime          1901\n",
      "Classical      1373\n",
      "Jazz           1239\n",
      "Hip-Hop        1145\n",
      "Name: music_genre, dtype: int64\n"
     ]
    }
   ],
   "source": [
    "df_train['music_genre'].value_counts().plot(kind='bar')\n",
    "plt.xlabel('Жанр')\n",
    "plt.title('Распределение жанров')\n",
    "plt.show()\n",
    "\n",
    "print(\"Соотношение количества композиций в каждой категории жанра:\")\n",
    "print(df_train['music_genre'].value_counts())"
   ]
  },
  {
   "cell_type": "code",
   "execution_count": 14,
   "id": "01079392",
   "metadata": {},
   "outputs": [
    {
     "name": "stdout",
     "output_type": "stream",
     "text": [
      "Уникальные значения столбца 'key' в df_train:\n",
      "D\n",
      "A\n",
      "E\n",
      "G#\n",
      "C\n",
      "D#\n",
      "A#\n",
      "F\n",
      "F#\n",
      "nan\n",
      "G\n",
      "C#\n",
      "B\n",
      "\n",
      "Уникальные значения столбца 'key' в df_test:\n",
      "A#\n",
      "G#\n",
      "A\n",
      "B\n",
      "D\n",
      "F#\n",
      "F\n",
      "G\n",
      "C\n",
      "nan\n",
      "D#\n",
      "C#\n",
      "E\n"
     ]
    }
   ],
   "source": [
    "unique_keys_train = df_train['key'].unique()\n",
    "print(\"Уникальные значения столбца 'key' в df_train:\")\n",
    "for key in unique_keys_train:\n",
    "    print(key)\n",
    "\n",
    "unique_keys_test = df_test['key'].unique()\n",
    "print(\"\\nУникальные значения столбца 'key' в df_test:\")\n",
    "for key in unique_keys_test:\n",
    "    print(key)"
   ]
  },
  {
   "cell_type": "code",
   "execution_count": 15,
   "id": "4622bb4d",
   "metadata": {},
   "outputs": [
    {
     "name": "stdout",
     "output_type": "stream",
     "text": [
      "Уникальные значения столбца 'mode' в df_train и их соотношения:\n",
      "Значение 'Major': 12827 (62.90%)\n",
      "Значение 'Minor': 7060 (34.62%)\n",
      "Значение 'nan': 506 (2.48%)\n",
      "\n",
      "Уникальные значения столбца 'mode' в df_test и их соотношения:\n",
      "Значение 'Minor': 1773 (34.77%)\n",
      "Значение 'Major': 3177 (62.31%)\n",
      "Значение 'nan': 149 (2.92%)\n"
     ]
    }
   ],
   "source": [
    "mode_counts_train = df_train['mode'].value_counts(dropna=False)\n",
    "unique_modes_train = df_train['mode'].unique()\n",
    "\n",
    "print(\"Уникальные значения столбца 'mode' в df_train и их соотношения:\")\n",
    "for mode in unique_modes_train:\n",
    "    count = mode_counts_train.get(mode, 0)  \n",
    "    percentage = count / len(df_train) * 100\n",
    "    print(f\"Значение '{mode}': {count} ({percentage:.2f}%)\")\n",
    "\n",
    "mode_counts_test = df_test['mode'].value_counts(dropna=False) \n",
    "unique_modes_test = df_test['mode'].unique()\n",
    "\n",
    "print(\"\\nУникальные значения столбца 'mode' в df_test и их соотношения:\")\n",
    "for mode in unique_modes_test:\n",
    "    count = mode_counts_test.get(mode, 0) \n",
    "    percentage = count / len(df_test) * 100\n",
    "    print(f\"Значение '{mode}': {count} ({percentage:.2f}%)\")"
   ]
  },
  {
   "cell_type": "code",
   "execution_count": 16,
   "id": "a234faa8",
   "metadata": {},
   "outputs": [
    {
     "name": "stdout",
     "output_type": "stream",
     "text": [
      "Соотношение уникальных значений 'obtained_date' в df_train:\n",
      "4-Apr    0.903938\n",
      "3-Apr    0.074732\n",
      "5-Apr    0.014221\n",
      "1-Apr    0.007110\n",
      "Name: obtained_date, dtype: float64\n",
      "\n",
      "Соотношение уникальных значений 'obtained_date' в df_test:\n",
      "4-Apr    0.901549\n",
      "3-Apr    0.077466\n",
      "5-Apr    0.012748\n",
      "1-Apr    0.008237\n",
      "Name: obtained_date, dtype: float64\n"
     ]
    }
   ],
   "source": [
    "print(\"Соотношение уникальных значений 'obtained_date' в df_train:\")\n",
    "print(df_train['obtained_date'].value_counts(normalize=True))\n",
    "\n",
    "print(\"\\nСоотношение уникальных значений 'obtained_date' в df_test:\")\n",
    "print(df_test['obtained_date'].value_counts(normalize=True))"
   ]
  },
  {
   "cell_type": "markdown",
   "id": "dd6e0de7",
   "metadata": {},
   "source": [
    "В соотношении качественных данных жанров, тонов и модальностей, а также дат загрузки наблюдается дисбаланс. "
   ]
  },
  {
   "cell_type": "markdown",
   "id": "4d6b813e",
   "metadata": {},
   "source": [
    "## Анализ количественных данных"
   ]
  },
  {
   "cell_type": "code",
   "execution_count": 17,
   "id": "f10b8976",
   "metadata": {},
   "outputs": [
    {
     "data": {
      "image/png": "[encoded data removed]",
      "text/plain": [
       "<Figure size 1800x3000 with 10 Axes>"
      ]
     },
     "metadata": {},
     "output_type": "display_data"
    }
   ],
   "source": [
    "num_cols = 2\n",
    "num_rows = (len(num_columns_train) + num_cols - 1) // num_cols\n",
    "plt.figure(figsize=(18, 6 * num_rows))\n",
    "\n",
    "\n",
    "for i, column in enumerate(num_columns_train):\n",
    "    plt.subplot(num_rows, num_cols, i + 1)\n",
    "    plt.hist(df_train[column], bins=20, color='blue', edgecolor='black', alpha=0.5, label='Train')\n",
    "    plt.hist(df_test[column], bins=20, color='orange', edgecolor='black', alpha=0.5, label='Test')\n",
    "    plt.title(f'{column}')\n",
    "    plt.legend()\n",
    "    plt.grid(True)\n",
    "\n",
    "plt.tight_layout()\n",
    "plt.show()"
   ]
  },
  {
   "cell_type": "code",
   "execution_count": 18,
   "id": "36550294",
   "metadata": {},
   "outputs": [],
   "source": [
    "def num_values_boxplot (data):\n",
    "    print (col)\n",
    "    display (data[col].describe())\n",
    "    data.boxplot(column=col)\n",
    "    plt.show()\n",
    "    return"
   ]
  },
  {
   "cell_type": "code",
   "execution_count": 19,
   "id": "4ad59b7d",
   "metadata": {},
   "outputs": [
    {
     "name": "stdout",
     "output_type": "stream",
     "text": [
      "Распределение количественных значений в df_train\n",
      "acousticness\n"
     ]
    },
    {
     "data": {
      "text/plain": [
       "count    20393.000000\n",
       "mean         0.274788\n",
       "std          0.321651\n",
       "min          0.000000\n",
       "25%          0.015200\n",
       "50%          0.120000\n",
       "75%          0.470000\n",
       "max          0.996000\n",
       "Name: acousticness, dtype: float64"
      ]
     },
     "metadata": {},
     "output_type": "display_data"
    },
    {
     "data": {
      "image/png": "[encoded data removed]",
      "text/plain": [
       "<Figure size 640x480 with 1 Axes>"
      ]
     },
     "metadata": {},
     "output_type": "display_data"
    },
    {
     "name": "stdout",
     "output_type": "stream",
     "text": [
      "danceability\n"
     ]
    },
    {
     "data": {
      "text/plain": [
       "count    20393.000000\n",
       "mean         0.561983\n",
       "std          0.171902\n",
       "min          0.060000\n",
       "25%          0.451000\n",
       "50%          0.570000\n",
       "75%          0.683000\n",
       "max          0.978000\n",
       "Name: danceability, dtype: float64"
      ]
     },
     "metadata": {},
     "output_type": "display_data"
    },
    {
     "data": {
      "image/png": "[encoded data removed]",
      "text/plain": [
       "<Figure size 640x480 with 1 Axes>"
      ]
     },
     "metadata": {},
     "output_type": "display_data"
    },
    {
     "name": "stdout",
     "output_type": "stream",
     "text": [
      "duration_ms\n"
     ]
    },
    {
     "data": {
      "text/plain": [
       "count    2.039300e+04\n",
       "mean     2.203770e+05\n",
       "std      1.267312e+05\n",
       "min     -1.000000e+00\n",
       "25%      1.775170e+05\n",
       "50%      2.195330e+05\n",
       "75%      2.660000e+05\n",
       "max      4.497994e+06\n",
       "Name: duration_ms, dtype: float64"
      ]
     },
     "metadata": {},
     "output_type": "display_data"
    },
    {
     "data": {
      "image/png": "[encoded data removed]",
      "text/plain": [
       "<Figure size 640x480 with 1 Axes>"
      ]
     },
     "metadata": {},
     "output_type": "display_data"
    },
    {
     "name": "stdout",
     "output_type": "stream",
     "text": [
      "energy\n"
     ]
    },
    {
     "data": {
      "text/plain": [
       "count    20393.000000\n",
       "mean         0.625273\n",
       "std          0.251243\n",
       "min          0.001010\n",
       "25%          0.470000\n",
       "50%          0.666000\n",
       "75%          0.830000\n",
       "max          0.999000\n",
       "Name: energy, dtype: float64"
      ]
     },
     "metadata": {},
     "output_type": "display_data"
    },
    {
     "data": {
      "image/png": "[encoded data removed]",
      "text/plain": [
       "<Figure size 640x480 with 1 Axes>"
      ]
     },
     "metadata": {},
     "output_type": "display_data"
    },
    {
     "name": "stdout",
     "output_type": "stream",
     "text": [
      "instrumentalness\n"
     ]
    },
    {
     "data": {
      "text/plain": [
       "count    20393.000000\n",
       "mean         0.159997\n",
       "std          0.306508\n",
       "min          0.000000\n",
       "25%          0.000000\n",
       "50%          0.000144\n",
       "75%          0.084500\n",
       "max          0.996000\n",
       "Name: instrumentalness, dtype: float64"
      ]
     },
     "metadata": {},
     "output_type": "display_data"
    },
    {
     "data": {
      "image/png": "[encoded data removed]",
      "text/plain": [
       "<Figure size 640x480 with 1 Axes>"
      ]
     },
     "metadata": {},
     "output_type": "display_data"
    },
    {
     "name": "stdout",
     "output_type": "stream",
     "text": [
      "liveness\n"
     ]
    },
    {
     "data": {
      "text/plain": [
       "count    20393.000000\n",
       "mean         0.198534\n",
       "std          0.166744\n",
       "min          0.013600\n",
       "25%          0.097300\n",
       "50%          0.130000\n",
       "75%          0.253000\n",
       "max          1.000000\n",
       "Name: liveness, dtype: float64"
      ]
     },
     "metadata": {},
     "output_type": "display_data"
    },
    {
     "data": {
      "image/png": "[encoded data removed]",
      "text/plain": [
       "<Figure size 640x480 with 1 Axes>"
      ]
     },
     "metadata": {},
     "output_type": "display_data"
    },
    {
     "name": "stdout",
     "output_type": "stream",
     "text": [
      "loudness\n"
     ]
    },
    {
     "data": {
      "text/plain": [
       "count    20393.000000\n",
       "mean        -8.552956\n",
       "std          5.500048\n",
       "min        -44.406000\n",
       "25%        -10.256000\n",
       "50%         -7.052000\n",
       "75%         -5.054000\n",
       "max          3.744000\n",
       "Name: loudness, dtype: float64"
      ]
     },
     "metadata": {},
     "output_type": "display_data"
    },
    {
     "data": {
      "image/png": "[encoded data removed]",
      "text/plain": [
       "<Figure size 640x480 with 1 Axes>"
      ]
     },
     "metadata": {},
     "output_type": "display_data"
    },
    {
     "name": "stdout",
     "output_type": "stream",
     "text": [
      "speechiness\n"
     ]
    },
    {
     "data": {
      "text/plain": [
       "count    20393.000000\n",
       "mean         0.091351\n",
       "std          0.097737\n",
       "min          0.022300\n",
       "25%          0.035600\n",
       "50%          0.049000\n",
       "75%          0.095500\n",
       "max          0.942000\n",
       "Name: speechiness, dtype: float64"
      ]
     },
     "metadata": {},
     "output_type": "display_data"
    },
    {
     "data": {
      "image/png": "[encoded data removed]",
      "text/plain": [
       "<Figure size 640x480 with 1 Axes>"
      ]
     },
     "metadata": {},
     "output_type": "display_data"
    },
    {
     "name": "stdout",
     "output_type": "stream",
     "text": [
      "tempo\n"
     ]
    },
    {
     "data": {
      "text/plain": [
       "count    19951.000000\n",
       "mean       120.941985\n",
       "std         30.428258\n",
       "min         34.765000\n",
       "25%         95.921500\n",
       "50%        120.012000\n",
       "75%        141.966500\n",
       "max        220.041000\n",
       "Name: tempo, dtype: float64"
      ]
     },
     "metadata": {},
     "output_type": "display_data"
    },
    {
     "data": {
      "image/png": "[encoded data removed]",
      "text/plain": [
       "<Figure size 640x480 with 1 Axes>"
      ]
     },
     "metadata": {},
     "output_type": "display_data"
    },
    {
     "name": "stdout",
     "output_type": "stream",
     "text": [
      "valence\n"
     ]
    },
    {
     "data": {
      "text/plain": [
       "count    20393.000000\n",
       "mean         0.464593\n",
       "std          0.243391\n",
       "min          0.000000\n",
       "25%          0.272000\n",
       "50%          0.457000\n",
       "75%          0.653000\n",
       "max          0.992000\n",
       "Name: valence, dtype: float64"
      ]
     },
     "metadata": {},
     "output_type": "display_data"
    },
    {
     "data": {
      "image/png": "[encoded data removed]",
      "text/plain": [
       "<Figure size 640x480 with 1 Axes>"
      ]
     },
     "metadata": {},
     "output_type": "display_data"
    }
   ],
   "source": [
    "print('Распределение количественных значений в df_train')\n",
    "for col in num_columns_train:\n",
    "    num_values_boxplot(df_train)"
   ]
  },
  {
   "cell_type": "code",
   "execution_count": 20,
   "id": "d9e7ed21",
   "metadata": {},
   "outputs": [
    {
     "name": "stdout",
     "output_type": "stream",
     "text": [
      "Распределение количественных значений в df_test\n",
      "acousticness\n"
     ]
    },
    {
     "data": {
      "text/plain": [
       "count    5099.000000\n",
       "mean        0.276324\n",
       "std         0.322657\n",
       "min         0.000002\n",
       "25%         0.016600\n",
       "50%         0.120000\n",
       "75%         0.460000\n",
       "max         0.996000\n",
       "Name: acousticness, dtype: float64"
      ]
     },
     "metadata": {},
     "output_type": "display_data"
    },
    {
     "data": {
      "image/png": "[encoded data removed]",
      "text/plain": [
       "<Figure size 640x480 with 1 Axes>"
      ]
     },
     "metadata": {},
     "output_type": "display_data"
    },
    {
     "name": "stdout",
     "output_type": "stream",
     "text": [
      "danceability\n"
     ]
    },
    {
     "data": {
      "text/plain": [
       "count    5099.000000\n",
       "mean        0.561888\n",
       "std         0.170502\n",
       "min         0.059600\n",
       "25%         0.451000\n",
       "50%         0.568000\n",
       "75%         0.681000\n",
       "max         0.977000\n",
       "Name: danceability, dtype: float64"
      ]
     },
     "metadata": {},
     "output_type": "display_data"
    },
    {
     "data": {
      "image/png": "[encoded data removed]",
      "text/plain": [
       "<Figure size 640x480 with 1 Axes>"
      ]
     },
     "metadata": {},
     "output_type": "display_data"
    },
    {
     "name": "stdout",
     "output_type": "stream",
     "text": [
      "duration_ms\n"
     ]
    },
    {
     "data": {
      "text/plain": [
       "count    5.099000e+03\n",
       "mean     2.173974e+05\n",
       "std      1.156374e+05\n",
       "min     -1.000000e+00\n",
       "25%      1.737335e+05\n",
       "50%      2.175000e+05\n",
       "75%      2.642470e+05\n",
       "max      1.360027e+06\n",
       "Name: duration_ms, dtype: float64"
      ]
     },
     "metadata": {},
     "output_type": "display_data"
    },
    {
     "data": {
      "image/png": "[encoded data removed]",
      "text/plain": [
       "<Figure size 640x480 with 1 Axes>"
      ]
     },
     "metadata": {},
     "output_type": "display_data"
    },
    {
     "name": "stdout",
     "output_type": "stream",
     "text": [
      "energy\n"
     ]
    },
    {
     "data": {
      "text/plain": [
       "count    5099.000000\n",
       "mean        0.622030\n",
       "std         0.251829\n",
       "min         0.001540\n",
       "25%         0.465000\n",
       "50%         0.660000\n",
       "75%         0.826000\n",
       "max         0.999000\n",
       "Name: energy, dtype: float64"
      ]
     },
     "metadata": {},
     "output_type": "display_data"
    },
    {
     "data": {
      "image/png": "[encoded data removed]",
      "text/plain": [
       "<Figure size 640x480 with 1 Axes>"
      ]
     },
     "metadata": {},
     "output_type": "display_data"
    },
    {
     "name": "stdout",
     "output_type": "stream",
     "text": [
      "instrumentalness\n"
     ]
    },
    {
     "data": {
      "text/plain": [
       "count    5099.000000\n",
       "mean        0.165198\n",
       "std         0.311940\n",
       "min         0.000000\n",
       "25%         0.000000\n",
       "50%         0.000157\n",
       "75%         0.092750\n",
       "max         0.994000\n",
       "Name: instrumentalness, dtype: float64"
      ]
     },
     "metadata": {},
     "output_type": "display_data"
    },
    {
     "data": {
      "image/png": "[encoded data removed]",
      "text/plain": [
       "<Figure size 640x480 with 1 Axes>"
      ]
     },
     "metadata": {},
     "output_type": "display_data"
    },
    {
     "name": "stdout",
     "output_type": "stream",
     "text": [
      "liveness\n"
     ]
    },
    {
     "data": {
      "text/plain": [
       "count    5099.000000\n",
       "mean        0.197924\n",
       "std         0.166241\n",
       "min         0.020400\n",
       "25%         0.096950\n",
       "50%         0.129000\n",
       "75%         0.248000\n",
       "max         0.990000\n",
       "Name: liveness, dtype: float64"
      ]
     },
     "metadata": {},
     "output_type": "display_data"
    },
    {
     "data": {
      "image/png": "[encoded data removed]",
      "text/plain": [
       "<Figure size 640x480 with 1 Axes>"
      ]
     },
     "metadata": {},
     "output_type": "display_data"
    },
    {
     "name": "stdout",
     "output_type": "stream",
     "text": [
      "loudness\n"
     ]
    },
    {
     "data": {
      "text/plain": [
       "count    5099.000000\n",
       "mean       -8.630186\n",
       "std         5.619766\n",
       "min       -46.122000\n",
       "25%       -10.231000\n",
       "50%        -7.135000\n",
       "75%        -5.127000\n",
       "max         1.949000\n",
       "Name: loudness, dtype: float64"
      ]
     },
     "metadata": {},
     "output_type": "display_data"
    },
    {
     "data": {
      "image/png": "[encoded data removed]",
      "text/plain": [
       "<Figure size 640x480 with 1 Axes>"
      ]
     },
     "metadata": {},
     "output_type": "display_data"
    },
    {
     "name": "stdout",
     "output_type": "stream",
     "text": [
      "speechiness\n"
     ]
    },
    {
     "data": {
      "text/plain": [
       "count    5099.000000\n",
       "mean        0.092718\n",
       "std         0.100130\n",
       "min         0.022600\n",
       "25%         0.035700\n",
       "50%         0.048700\n",
       "75%         0.096550\n",
       "max         0.918000\n",
       "Name: speechiness, dtype: float64"
      ]
     },
     "metadata": {},
     "output_type": "display_data"
    },
    {
     "data": {
      "image/png": "[encoded data removed]",
      "text/plain": [
       "<Figure size 640x480 with 1 Axes>"
      ]
     },
     "metadata": {},
     "output_type": "display_data"
    },
    {
     "name": "stdout",
     "output_type": "stream",
     "text": [
      "tempo\n"
     ]
    },
    {
     "data": {
      "text/plain": [
       "count    4978.000000\n",
       "mean      121.246463\n",
       "std        29.875950\n",
       "min        37.114000\n",
       "25%        96.070250\n",
       "50%       120.053500\n",
       "75%       141.934250\n",
       "max       216.029000\n",
       "Name: tempo, dtype: float64"
      ]
     },
     "metadata": {},
     "output_type": "display_data"
    },
    {
     "data": {
      "image/png": "[encoded data removed]",
      "text/plain": [
       "<Figure size 640x480 with 1 Axes>"
      ]
     },
     "metadata": {},
     "output_type": "display_data"
    },
    {
     "name": "stdout",
     "output_type": "stream",
     "text": [
      "valence\n"
     ]
    },
    {
     "data": {
      "text/plain": [
       "count    5099.000000\n",
       "mean        0.465593\n",
       "std         0.244217\n",
       "min         0.020500\n",
       "25%         0.272000\n",
       "50%         0.458000\n",
       "75%         0.650000\n",
       "max         0.982000\n",
       "Name: valence, dtype: float64"
      ]
     },
     "metadata": {},
     "output_type": "display_data"
    },
    {
     "data": {
      "image/png": "[encoded data removed]",
      "text/plain": [
       "<Figure size 640x480 with 1 Axes>"
      ]
     },
     "metadata": {},
     "output_type": "display_data"
    }
   ],
   "source": [
    "print('Распределение количественных значений в df_test')\n",
    "for col in num_columns_test:\n",
    "    num_values_boxplot(df_test)"
   ]
  },
  {
   "cell_type": "markdown",
   "id": "36caf4bb",
   "metadata": {},
   "source": [
    "Распределения количественных данных в тренировочном и тестовом датафреймах схожи. Наблюдаются аномалии: продолжительность -1 и инструментальность 0 - вероятно, это заглушки для отсутствующих значений. Кроме этого, выбросами являются композиции с продолжительностью менее 1316 мс (рекорд Гиннесса - самая короткая музыкальная композиция)."
   ]
  },
  {
   "cell_type": "markdown",
   "id": "7f8397d5",
   "metadata": {},
   "source": [
    "## Обработка и подготовка данных для машинного обучения"
   ]
  },
  {
   "cell_type": "markdown",
   "id": "9c314768",
   "metadata": {},
   "source": [
    "Превратим признак названия в количество слов в нём в обоих датафреймах."
   ]
  },
  {
   "cell_type": "code",
   "execution_count": 21,
   "id": "46e5950f",
   "metadata": {},
   "outputs": [],
   "source": [
    "words_count_train=[]\n",
    "for i in df_train['track_name']:\n",
    "    words_count_train.append(len(re.findall(r'\\w+', i)))\n",
    "df_train['track_name'] = pd.Series(data=words_count_train, index=df_train.index)"
   ]
  },
  {
   "cell_type": "code",
   "execution_count": 22,
   "id": "4542a5d8",
   "metadata": {},
   "outputs": [],
   "source": [
    "words_count_test=[]\n",
    "for i in df_test['track_name']:\n",
    "    words_count_test.append(len(re.findall(r'\\w+', i)))\n",
    "df_test['track_name'] = pd.Series(data=words_count_test, index=df_test.index)"
   ]
  },
  {
   "cell_type": "markdown",
   "id": "220e10ca",
   "metadata": {},
   "source": [
    "Поставим пропуски на нулевых названиях треков, заглушках и выбросах."
   ]
  },
  {
   "cell_type": "code",
   "execution_count": 23,
   "id": "076fb935",
   "metadata": {},
   "outputs": [],
   "source": [
    "df_train['track_name'] = df_train['track_name'].mask(df_train['track_name']==0)\n",
    "df_train['duration_ms'] = df_train['duration_ms'].mask(df_train['duration_ms']==-1)\n",
    "df_train['duration_ms'] = df_train['duration_ms'].mask(df_train['duration_ms']<1316)\n",
    "df_train['instrumentalness'] = df_train['instrumentalness'].mask(df_train['instrumentalness']==0)\n",
    "df_train.loc[df_train['loudness']>0, ['loudness']] = 0\n",
    "    "
   ]
  },
  {
   "cell_type": "code",
   "execution_count": 24,
   "id": "374f082b",
   "metadata": {},
   "outputs": [],
   "source": [
    "df_test['track_name'] = df_test['track_name'].mask(df_test['track_name']==0)\n",
    "df_test['duration_ms'] = df_test['duration_ms'].mask(df_test['duration_ms']==-1)\n",
    "df_test['duration_ms'] = df_test['duration_ms'].mask(df_test['duration_ms']<1316)\n",
    "df_test['instrumentalness'] = df_test['instrumentalness'].mask(df_test['instrumentalness']==0)\n",
    "df_test.loc[df_test['loudness']>0, ['loudness']] = 0\n",
    "    "
   ]
  },
  {
   "cell_type": "markdown",
   "id": "361e46d0",
   "metadata": {},
   "source": [
    "Разделим обучающие данные на признаки и целевой признак и переопределим количественные и категориальные колонки в них."
   ]
  },
  {
   "cell_type": "code",
   "execution_count": 25,
   "id": "f368e253",
   "metadata": {},
   "outputs": [],
   "source": [
    "X = df_train.drop(labels=['music_genre', 'obtained_date'], axis=1)\n",
    "y = df_train['music_genre']"
   ]
  },
  {
   "cell_type": "code",
   "execution_count": 26,
   "id": "f07540dc",
   "metadata": {},
   "outputs": [],
   "source": [
    "cat_columns = ['key', 'mode']\n",
    "num_columns = ['track_name', 'acousticness', 'danceability', 'duration_ms', 'energy', 'instrumentalness', 'liveness', 'loudness', 'speechiness', 'tempo', 'valence']"
   ]
  },
  {
   "cell_type": "markdown",
   "id": "ea5e72ec",
   "metadata": {},
   "source": [
    "## Машинное обучение с применением пайплайна"
   ]
  },
  {
   "cell_type": "markdown",
   "id": "8801f219",
   "metadata": {},
   "source": [
    "Для предобрабоки данных создаём обрабатывающий дисбалансы пайплайн с детектором выбросов, масштабированием, исключением данных с высокой взаимной корреляцией, заполнением пропусков, созданием синтетических полиномиальных признаков и подбором наилучших параметров через кросс-валидацию."
   ]
  },
  {
   "cell_type": "code",
   "execution_count": 27,
   "id": "d138b086",
   "metadata": {},
   "outputs": [],
   "source": [
    "def outlier_detector_(X, y):\n",
    "    outlier_index =  IsolationForest(contamination=0.01, random_state=42).fit_predict(X)\n",
    "    return X[outlier_index == 1], y[outlier_index == 1] "
   ]
  },
  {
   "cell_type": "code",
   "execution_count": 28,
   "id": "6c6368fa",
   "metadata": {},
   "outputs": [],
   "source": [
    "scaler = RobustScaler()\n",
    "outlier_detector = FunctionSampler(func=outlier_detector_)\n",
    "drop_correlation = DropCorrelatedFeatures(threshold=0.9)"
   ]
  },
  {
   "cell_type": "code",
   "execution_count": 29,
   "id": "92ad7eec",
   "metadata": {},
   "outputs": [],
   "source": [
    "num_pipeline = make_imblearn_pipeline(scaler, drop_correlation)\n",
    "column_transformer = make_column_transformer((OrdinalEncoder(), cat_columns),\n",
    "                                            (num_pipeline, num_columns))"
   ]
  },
  {
   "cell_type": "code",
   "execution_count": 30,
   "id": "bda06de9",
   "metadata": {},
   "outputs": [],
   "source": [
    "clf_pipeline =  make_imblearn_pipeline(column_transformer,\n",
    "                         IterativeImputer(),         \n",
    "                         FunctionSampler(func=outlier_detector_),\n",
    "                         PolynomialFeatures(),\n",
    "                         SelectKBest(score_func=mutual_info_classif),\n",
    "                         RandomForestClassifier(random_state=42))\n",
    "clf_pipeline.steps[-1][1].get_params()\n",
    "clf_pipeline.steps[-1] = ('clf', clf_pipeline.steps[-1][1])"
   ]
  },
  {
   "cell_type": "markdown",
   "id": "d0ea400f",
   "metadata": {},
   "source": [
    "Разделим обучающие данные на тренировочную и валидационную выборки."
   ]
  },
  {
   "cell_type": "code",
   "execution_count": 31,
   "id": "3948917d",
   "metadata": {},
   "outputs": [],
   "source": [
    "X_train, X_test, y_train, y_test = train_test_split(X, y, test_size=0.2, random_state=42, stratify=y)"
   ]
  },
  {
   "cell_type": "markdown",
   "id": "23f3478a",
   "metadata": {},
   "source": [
    "С помощью словаря параметров и рандомизированного поиска с кросс-валидацией перебираем параметры для пайплайна."
   ]
  },
  {
   "cell_type": "code",
   "execution_count": 32,
   "id": "0c4b35de",
   "metadata": {},
   "outputs": [],
   "source": [
    "params = [{\n",
    "    'selectkbest__k' : [5, 10, 'all'],\n",
    "    'columntransformer__pipeline__robustscaler': [None, RobustScaler(), StandardScaler()],\n",
    "    'columntransformer__pipeline__dropcorrelatedfeatures__threshold': [0.6, 0.7, 0.8, 0.9],\n",
    "    'iterativeimputer':[SimpleImputer(), IterativeImputer(), KNNImputer()]\n",
    "}]"
   ]
  },
  {
   "cell_type": "code",
   "execution_count": 33,
   "id": "b7d9f8ef",
   "metadata": {},
   "outputs": [],
   "source": [
    "grid = RandomizedSearchCV(clf_pipeline,\n",
    "                          params,\n",
    "                          cv=3,\n",
    "                          n_iter=30,\n",
    "                          verbose=5,\n",
    "                          random_state=42,\n",
    "                          scoring='f1_micro',\n",
    "                          n_jobs=-1)"
   ]
  },
  {
   "cell_type": "code",
   "execution_count": 34,
   "id": "f91dc9d7",
   "metadata": {},
   "outputs": [
    {
     "name": "stdout",
     "output_type": "stream",
     "text": [
      "Fitting 3 folds for each of 30 candidates, totalling 90 fits\n"
     ]
    },
    {
     "data": {
      "text/plain": [
       "0.46776170630056385"
      ]
     },
     "metadata": {},
     "output_type": "display_data"
    },
    {
     "data": {
      "text/plain": [
       "{'selectkbest__k': 'all',\n",
       " 'iterativeimputer': SimpleImputer(),\n",
       " 'columntransformer__pipeline__robustscaler': None,\n",
       " 'columntransformer__pipeline__dropcorrelatedfeatures__threshold': 0.9}"
      ]
     },
     "metadata": {},
     "output_type": "display_data"
    },
    {
     "name": "stdout",
     "output_type": "stream",
     "text": [
      "CPU times: user 28.4 s, sys: 1.01 s, total: 29.4 s\n",
      "Wall time: 6min 35s\n"
     ]
    }
   ],
   "source": [
    "%%time\n",
    "grid.fit(X_train, y_train)\n",
    "grid.predict(X_test)\n",
    "display(grid.score(X_test, y_test))\n",
    "display(grid.best_params_)"
   ]
  },
  {
   "cell_type": "code",
   "execution_count": 35,
   "id": "b6c23247",
   "metadata": {},
   "outputs": [],
   "source": [
    "num_pipeline = make_imblearn_pipeline(drop_correlation)\n",
    "column_transformer = make_column_transformer((OrdinalEncoder(), cat_columns),\n",
    "                                            (num_pipeline, num_columns))"
   ]
  },
  {
   "cell_type": "markdown",
   "id": "80a2e794",
   "metadata": {},
   "source": [
    "Создаём два пайплайна-эстимейтора с учётом оптимальных настроек на предобработке. В качестве моделей используем классификаторы - наша задача предполагает мультиклассовую классификацию. С учётом размеров исходного датафрейма используем две модели, которые хорошо принимают такие данные - случайный лес и градиентный бустинг с разбитием на корзины. Два эстимейтора мы объединяем через стэкинг с логистической регрессией и проверяем метрику f1 micro на тренировочном датасете."
   ]
  },
  {
   "cell_type": "code",
   "execution_count": 36,
   "id": "5404ffba",
   "metadata": {},
   "outputs": [],
   "source": [
    "rf_pipeline =  make_imblearn_pipeline(column_transformer,\n",
    "                         SimpleImputer(),         \n",
    "                         FunctionSampler(func=outlier_detector_),\n",
    "                         PolynomialFeatures(),\n",
    "                         SelectKBest(k='all'),\n",
    "                         RandomForestClassifier(class_weight='balanced', warm_start=True, random_state=42))"
   ]
  },
  {
   "cell_type": "code",
   "execution_count": 37,
   "id": "afa82300",
   "metadata": {},
   "outputs": [
    {
     "data": {
      "text/plain": [
       "0.4660455994116205"
      ]
     },
     "metadata": {},
     "output_type": "display_data"
    }
   ],
   "source": [
    "rf_pipeline.fit(X_train, y_train)\n",
    "rf_pipeline.predict(X_test)\n",
    "display(rf_pipeline.score(X_test, y_test))"
   ]
  },
  {
   "cell_type": "code",
   "execution_count": 38,
   "id": "2c21a563",
   "metadata": {},
   "outputs": [],
   "source": [
    "gbclf_pipeline = make_imblearn_pipeline(column_transformer,\n",
    "                         SimpleImputer(),         \n",
    "                         FunctionSampler(func=outlier_detector_),\n",
    "                         PolynomialFeatures(),\n",
    "                         SelectKBest(k='all'),\n",
    "                         HistGradientBoostingClassifier(warm_start=True, random_state=42))"
   ]
  },
  {
   "cell_type": "code",
   "execution_count": 39,
   "id": "2ab459f5",
   "metadata": {},
   "outputs": [
    {
     "data": {
      "text/plain": [
       "0.47928413826918365"
      ]
     },
     "metadata": {},
     "output_type": "display_data"
    }
   ],
   "source": [
    "gbclf_pipeline.fit(X_train, y_train)\n",
    "gbclf_pipeline.predict(X_test)\n",
    "display(gbclf_pipeline.score(X_test, y_test))"
   ]
  },
  {
   "cell_type": "code",
   "execution_count": 42,
   "id": "d1ca0404",
   "metadata": {},
   "outputs": [],
   "source": [
    "estimators = [\n",
    "    ('rf', rf_pipeline),\n",
    "    ('gbclf', gbclf_pipeline)\n",
    "]\n",
    "stclf_pipeline = StackingClassifier(\n",
    "    estimators=estimators,\n",
    "    final_estimator=LogisticRegression(random_state=42),\n",
    "    n_jobs=-1,\n",
    "    cv=3\n",
    "    \n",
    ")"
   ]
  },
  {
   "cell_type": "code",
   "execution_count": 43,
   "id": "4d839ea9",
   "metadata": {
    "scrolled": false
   },
   "outputs": [
    {
     "name": "stderr",
     "output_type": "stream",
     "text": [
      "/Users/nikitagoroshevskiy/opt/anaconda3/lib/python3.9/site-packages/sklearn/feature_selection/_univariate_selection.py:112: UserWarning: Features [0] are constant.\n",
      "  warnings.warn(\"Features %s are constant.\" % constant_features_idx, UserWarning)\n",
      "/Users/nikitagoroshevskiy/opt/anaconda3/lib/python3.9/site-packages/sklearn/feature_selection/_univariate_selection.py:113: RuntimeWarning: invalid value encountered in true_divide\n",
      "  f = msb / msw\n",
      "/Users/nikitagoroshevskiy/opt/anaconda3/lib/python3.9/site-packages/sklearn/feature_selection/_univariate_selection.py:112: UserWarning: Features [0] are constant.\n",
      "  warnings.warn(\"Features %s are constant.\" % constant_features_idx, UserWarning)\n",
      "/Users/nikitagoroshevskiy/opt/anaconda3/lib/python3.9/site-packages/sklearn/feature_selection/_univariate_selection.py:113: RuntimeWarning: invalid value encountered in true_divide\n",
      "  f = msb / msw\n",
      "/Users/nikitagoroshevskiy/opt/anaconda3/lib/python3.9/site-packages/sklearn/ensemble/_forest.py:765: UserWarning: class_weight presets \"balanced\" or \"balanced_subsample\" are not recommended for warm_start if the fitted data differs from the full dataset. In order to use \"balanced\" weights, use compute_class_weight (\"balanced\", classes, y). In place of y you can use a large enough sample of the full training set target to properly estimate the class frequency distributions. Pass the resulting weights as the class_weight parameter.\n",
      "  warn(\n",
      "/Users/nikitagoroshevskiy/opt/anaconda3/lib/python3.9/site-packages/sklearn/feature_selection/_univariate_selection.py:112: UserWarning: Features [0] are constant.\n",
      "  warnings.warn(\"Features %s are constant.\" % constant_features_idx, UserWarning)\n",
      "/Users/nikitagoroshevskiy/opt/anaconda3/lib/python3.9/site-packages/sklearn/feature_selection/_univariate_selection.py:113: RuntimeWarning: invalid value encountered in true_divide\n",
      "  f = msb / msw\n",
      "/Users/nikitagoroshevskiy/opt/anaconda3/lib/python3.9/site-packages/sklearn/feature_selection/_univariate_selection.py:112: UserWarning: Features [0] are constant.\n",
      "  warnings.warn(\"Features %s are constant.\" % constant_features_idx, UserWarning)\n",
      "/Users/nikitagoroshevskiy/opt/anaconda3/lib/python3.9/site-packages/sklearn/feature_selection/_univariate_selection.py:113: RuntimeWarning: invalid value encountered in true_divide\n",
      "  f = msb / msw\n",
      "/Users/nikitagoroshevskiy/opt/anaconda3/lib/python3.9/site-packages/sklearn/feature_selection/_univariate_selection.py:112: UserWarning: Features [0] are constant.\n",
      "  warnings.warn(\"Features %s are constant.\" % constant_features_idx, UserWarning)\n",
      "/Users/nikitagoroshevskiy/opt/anaconda3/lib/python3.9/site-packages/sklearn/feature_selection/_univariate_selection.py:113: RuntimeWarning: invalid value encountered in true_divide\n",
      "  f = msb / msw\n",
      "/Users/nikitagoroshevskiy/opt/anaconda3/lib/python3.9/site-packages/sklearn/feature_selection/_univariate_selection.py:112: UserWarning: Features [0] are constant.\n",
      "  warnings.warn(\"Features %s are constant.\" % constant_features_idx, UserWarning)\n",
      "/Users/nikitagoroshevskiy/opt/anaconda3/lib/python3.9/site-packages/sklearn/feature_selection/_univariate_selection.py:113: RuntimeWarning: invalid value encountered in true_divide\n",
      "  f = msb / msw\n",
      "/Users/nikitagoroshevskiy/opt/anaconda3/lib/python3.9/site-packages/sklearn/feature_selection/_univariate_selection.py:112: UserWarning: Features [0] are constant.\n",
      "  warnings.warn(\"Features %s are constant.\" % constant_features_idx, UserWarning)\n",
      "/Users/nikitagoroshevskiy/opt/anaconda3/lib/python3.9/site-packages/sklearn/feature_selection/_univariate_selection.py:113: RuntimeWarning: invalid value encountered in true_divide\n",
      "  f = msb / msw\n",
      "/Users/nikitagoroshevskiy/opt/anaconda3/lib/python3.9/site-packages/sklearn/feature_selection/_univariate_selection.py:112: UserWarning: Features [0] are constant.\n",
      "  warnings.warn(\"Features %s are constant.\" % constant_features_idx, UserWarning)\n",
      "/Users/nikitagoroshevskiy/opt/anaconda3/lib/python3.9/site-packages/sklearn/feature_selection/_univariate_selection.py:113: RuntimeWarning: invalid value encountered in true_divide\n",
      "  f = msb / msw\n",
      "/Users/nikitagoroshevskiy/opt/anaconda3/lib/python3.9/site-packages/sklearn/ensemble/_forest.py:765: UserWarning: class_weight presets \"balanced\" or \"balanced_subsample\" are not recommended for warm_start if the fitted data differs from the full dataset. In order to use \"balanced\" weights, use compute_class_weight (\"balanced\", classes, y). In place of y you can use a large enough sample of the full training set target to properly estimate the class frequency distributions. Pass the resulting weights as the class_weight parameter.\n",
      "  warn(\n",
      "/Users/nikitagoroshevskiy/opt/anaconda3/lib/python3.9/site-packages/sklearn/ensemble/_forest.py:765: UserWarning: class_weight presets \"balanced\" or \"balanced_subsample\" are not recommended for warm_start if the fitted data differs from the full dataset. In order to use \"balanced\" weights, use compute_class_weight (\"balanced\", classes, y). In place of y you can use a large enough sample of the full training set target to properly estimate the class frequency distributions. Pass the resulting weights as the class_weight parameter.\n",
      "  warn(\n"
     ]
    },
    {
     "data": {
      "text/plain": [
       "0.5094385878891885"
      ]
     },
     "metadata": {},
     "output_type": "display_data"
    },
    {
     "name": "stdout",
     "output_type": "stream",
     "text": [
      "[CV 2/3] END columntransformer__pipeline__dropcorrelatedfeatures__threshold=0.6, columntransformer__pipeline__robustscaler=None, iterativeimputer=IterativeImputer(), selectkbest__k=10;, score=0.359 total time=  20.8s\n",
      "[CV 3/3] END columntransformer__pipeline__dropcorrelatedfeatures__threshold=0.9, columntransformer__pipeline__robustscaler=None, iterativeimputer=SimpleImputer(), selectkbest__k=all;, score=0.460 total time=  44.7s\n",
      "[CV 2/3] END columntransformer__pipeline__dropcorrelatedfeatures__threshold=0.7, columntransformer__pipeline__robustscaler=None, iterativeimputer=IterativeImputer(), selectkbest__k=5;, score=0.291 total time=  21.2s\n",
      "[CV 3/3] END columntransformer__pipeline__dropcorrelatedfeatures__threshold=0.7, columntransformer__pipeline__robustscaler=StandardScaler(), iterativeimputer=SimpleImputer(), selectkbest__k=5;, score=0.323 total time=  18.7s\n",
      "[CV 2/3] END columntransformer__pipeline__dropcorrelatedfeatures__threshold=0.9, columntransformer__pipeline__robustscaler=None, iterativeimputer=SimpleImputer(), selectkbest__k=5;, score=0.360 total time=  24.6s\n",
      "[CV 1/3] END columntransformer__pipeline__dropcorrelatedfeatures__threshold=0.6, columntransformer__pipeline__robustscaler=None, iterativeimputer=SimpleImputer(), selectkbest__k=5;, score=0.300 total time=  19.2s\n",
      "[CV 3/3] END columntransformer__pipeline__dropcorrelatedfeatures__threshold=0.8, columntransformer__pipeline__robustscaler=StandardScaler(), iterativeimputer=KNNImputer(), selectkbest__k=all;, score=0.437 total time=  47.4s\n",
      "[CV 2/3] END columntransformer__pipeline__dropcorrelatedfeatures__threshold=0.8, columntransformer__pipeline__robustscaler=StandardScaler(), iterativeimputer=IterativeImputer(), selectkbest__k=10;, score=0.329 total time=  24.7s\n",
      "[CV 1/3] END columntransformer__pipeline__dropcorrelatedfeatures__threshold=0.6, columntransformer__pipeline__robustscaler=RobustScaler(), iterativeimputer=IterativeImputer(), selectkbest__k=5;, score=0.292 total time=  22.3s\n",
      "[CV 2/3] END columntransformer__pipeline__dropcorrelatedfeatures__threshold=0.7, columntransformer__pipeline__robustscaler=RobustScaler(), iterativeimputer=SimpleImputer(), selectkbest__k=5;, score=0.314 total time=  19.5s\n",
      "[CV 3/3] END columntransformer__pipeline__dropcorrelatedfeatures__threshold=0.6, columntransformer__pipeline__robustscaler=StandardScaler(), iterativeimputer=KNNImputer(), selectkbest__k=all;, score=0.408 total time=  46.0s\n",
      "[CV 1/3] END columntransformer__pipeline__dropcorrelatedfeatures__threshold=0.6, columntransformer__pipeline__robustscaler=RobustScaler(), iterativeimputer=KNNImputer(), selectkbest__k=5;, score=0.276 total time=  33.2s\n",
      "[CV 3/3] END columntransformer__pipeline__dropcorrelatedfeatures__threshold=0.6, columntransformer__pipeline__robustscaler=RobustScaler(), iterativeimputer=SimpleImputer(), selectkbest__k=10;, score=0.369 total time=  20.6s\n",
      "[CV 2/3] END columntransformer__pipeline__dropcorrelatedfeatures__threshold=0.9, columntransformer__pipeline__robustscaler=None, iterativeimputer=SimpleImputer(), selectkbest__k=all;, score=0.445 total time=  44.3s\n",
      "[CV 3/3] END columntransformer__pipeline__dropcorrelatedfeatures__threshold=0.8, columntransformer__pipeline__robustscaler=RobustScaler(), iterativeimputer=IterativeImputer(), selectkbest__k=10;, score=0.340 total time=  26.7s\n",
      "[CV 3/3] END columntransformer__pipeline__dropcorrelatedfeatures__threshold=0.9, columntransformer__pipeline__robustscaler=RobustScaler(), iterativeimputer=IterativeImputer(), selectkbest__k=all;, score=0.444 total time=  44.3s\n",
      "[CV 1/3] END columntransformer__pipeline__dropcorrelatedfeatures__threshold=0.8, columntransformer__pipeline__robustscaler=StandardScaler(), iterativeimputer=KNNImputer(), selectkbest__k=all;, score=0.430 total time=  46.7s\n",
      "[CV 3/3] END columntransformer__pipeline__dropcorrelatedfeatures__threshold=0.8, columntransformer__pipeline__robustscaler=None, iterativeimputer=SimpleImputer(), selectkbest__k=all;, score=0.451 total time=  35.0s\n",
      "[CV 3/3] END columntransformer__pipeline__dropcorrelatedfeatures__threshold=0.7, columntransformer__pipeline__robustscaler=RobustScaler(), iterativeimputer=KNNImputer(), selectkbest__k=5;, score=0.281 total time=  34.3s\n",
      "[CV 1/3] END columntransformer__pipeline__dropcorrelatedfeatures__threshold=0.6, columntransformer__pipeline__robustscaler=StandardScaler(), iterativeimputer=KNNImputer(), selectkbest__k=all;, score=0.420 total time=  45.4s\n",
      "[CV 1/3] END columntransformer__pipeline__dropcorrelatedfeatures__threshold=0.9, columntransformer__pipeline__robustscaler=StandardScaler(), iterativeimputer=SimpleImputer(), selectkbest__k=10;, score=0.344 total time=  28.3s\n",
      "[CV 3/3] END columntransformer__pipeline__dropcorrelatedfeatures__threshold=0.6, columntransformer__pipeline__robustscaler=RobustScaler(), iterativeimputer=KNNImputer(), selectkbest__k=5;, score=0.281 total time=  28.0s\n"
     ]
    }
   ],
   "source": [
    "stclf_pipeline.fit(X_train, y_train)\n",
    "stclf_pipeline.predict(X_test)\n",
    "display(stclf_pipeline.score(X_test, y_test))"
   ]
  },
  {
   "cell_type": "code",
   "execution_count": 44,
   "id": "e3e59cd0",
   "metadata": {},
   "outputs": [],
   "source": [
    "test_music_genre = stclf_pipeline.predict(df_test)"
   ]
  },
  {
   "cell_type": "code",
   "execution_count": 45,
   "id": "5a9ed462",
   "metadata": {},
   "outputs": [],
   "source": [
    "df_test['music_genre'] = pd.Series(data=test_music_genre, index=df_test.index)"
   ]
  },
  {
   "cell_type": "code",
   "execution_count": 46,
   "id": "4e2cd870",
   "metadata": {},
   "outputs": [],
   "source": [
    "df_test = df_test.reset_index(drop=False)"
   ]
  },
  {
   "cell_type": "code",
   "execution_count": 47,
   "id": "0746927a",
   "metadata": {},
   "outputs": [],
   "source": [
    "submit = df_test[['instance_id', 'music_genre']]"
   ]
  },
  {
   "cell_type": "code",
   "execution_count": 48,
   "id": "bf6948df",
   "metadata": {},
   "outputs": [
    {
     "name": "stdout",
     "output_type": "stream",
     "text": [
      "[CV 1/3] END columntransformer__pipeline__dropcorrelatedfeatures__threshold=0.8, columntransformer__pipeline__robustscaler=StandardScaler(), iterativeimputer=IterativeImputer(), selectkbest__k=all;, score=0.439 total time=  37.2s\n",
      "[CV 3/3] END columntransformer__pipeline__dropcorrelatedfeatures__threshold=0.8, columntransformer__pipeline__robustscaler=None, iterativeimputer=KNNImputer(), selectkbest__k=all;, score=0.440 total time=  55.7s\n",
      "[CV 2/3] END columntransformer__pipeline__dropcorrelatedfeatures__threshold=0.6, columntransformer__pipeline__robustscaler=RobustScaler(), iterativeimputer=SimpleImputer(), selectkbest__k=all;, score=0.428 total time=  32.7s\n",
      "[CV 3/3] END columntransformer__pipeline__dropcorrelatedfeatures__threshold=0.8, columntransformer__pipeline__robustscaler=StandardScaler(), iterativeimputer=KNNImputer(), selectkbest__k=10;, score=0.324 total time=  38.4s\n",
      "[CV 2/3] END columntransformer__pipeline__dropcorrelatedfeatures__threshold=0.8, columntransformer__pipeline__robustscaler=RobustScaler(), iterativeimputer=KNNImputer(), selectkbest__k=5;, score=0.276 total time=  33.9s\n",
      "[CV 1/3] END columntransformer__pipeline__dropcorrelatedfeatures__threshold=0.9, columntransformer__pipeline__robustscaler=StandardScaler(), iterativeimputer=KNNImputer(), selectkbest__k=10;, score=0.344 total time=  40.0s\n",
      "[CV 3/3] END columntransformer__pipeline__dropcorrelatedfeatures__threshold=0.6, columntransformer__pipeline__robustscaler=RobustScaler(), iterativeimputer=IterativeImputer(), selectkbest__k=5;, score=0.296 total time=  21.5s\n",
      "[CV 2/3] END columntransformer__pipeline__dropcorrelatedfeatures__threshold=0.6, columntransformer__pipeline__robustscaler=StandardScaler(), iterativeimputer=KNNImputer(), selectkbest__k=all;, score=0.400 total time=  45.7s\n",
      "[CV 3/3] END columntransformer__pipeline__dropcorrelatedfeatures__threshold=0.9, columntransformer__pipeline__robustscaler=StandardScaler(), iterativeimputer=SimpleImputer(), selectkbest__k=10;, score=0.355 total time=  29.2s\n",
      "[CV 1/3] END columntransformer__pipeline__dropcorrelatedfeatures__threshold=0.6, columntransformer__pipeline__robustscaler=None, iterativeimputer=IterativeImputer(), selectkbest__k=10;, score=0.365 total time=  20.8s\n",
      "[CV 1/3] END columntransformer__pipeline__dropcorrelatedfeatures__threshold=0.8, columntransformer__pipeline__robustscaler=None, iterativeimputer=KNNImputer(), selectkbest__k=all;, score=0.441 total time=  52.9s\n",
      "[CV 2/3] END columntransformer__pipeline__dropcorrelatedfeatures__threshold=0.7, columntransformer__pipeline__robustscaler=StandardScaler(), iterativeimputer=SimpleImputer(), selectkbest__k=5;, score=0.307 total time=  19.5s\n",
      "[CV 1/3] END columntransformer__pipeline__dropcorrelatedfeatures__threshold=0.9, columntransformer__pipeline__robustscaler=None, iterativeimputer=SimpleImputer(), selectkbest__k=5;, score=0.311 total time=  23.2s\n",
      "[CV 3/3] END columntransformer__pipeline__dropcorrelatedfeatures__threshold=0.9, columntransformer__pipeline__robustscaler=None, iterativeimputer=SimpleImputer(), selectkbest__k=5;, score=0.317 total time=  24.4s\n",
      "[CV 2/3] END columntransformer__pipeline__dropcorrelatedfeatures__threshold=0.8, columntransformer__pipeline__robustscaler=StandardScaler(), iterativeimputer=KNNImputer(), selectkbest__k=all;, score=0.427 total time=  47.1s\n",
      "[CV 1/3] END columntransformer__pipeline__dropcorrelatedfeatures__threshold=0.8, columntransformer__pipeline__robustscaler=StandardScaler(), iterativeimputer=IterativeImputer(), selectkbest__k=10;, score=0.335 total time=  24.0s\n",
      "[CV 1/3] END columntransformer__pipeline__dropcorrelatedfeatures__threshold=0.7, columntransformer__pipeline__robustscaler=RobustScaler(), iterativeimputer=KNNImputer(), selectkbest__k=5;, score=0.291 total time=  36.5s\n",
      "[CV 2/3] END columntransformer__pipeline__dropcorrelatedfeatures__threshold=0.8, columntransformer__pipeline__robustscaler=RobustScaler(), iterativeimputer=SimpleImputer(), selectkbest__k=10;, score=0.344 total time=  24.5s\n",
      "[CV 1/3] END columntransformer__pipeline__dropcorrelatedfeatures__threshold=0.7, columntransformer__pipeline__robustscaler=None, iterativeimputer=IterativeImputer(), selectkbest__k=10;, score=0.379 total time=  24.5s\n",
      "[CV 2/3] END columntransformer__pipeline__dropcorrelatedfeatures__threshold=0.9, columntransformer__pipeline__robustscaler=StandardScaler(), iterativeimputer=SimpleImputer(), selectkbest__k=10;, score=0.344 total time=  28.4s\n",
      "[CV 1/3] END columntransformer__pipeline__dropcorrelatedfeatures__threshold=0.7, columntransformer__pipeline__robustscaler=RobustScaler(), iterativeimputer=KNNImputer(), selectkbest__k=all;, score=0.444 total time=  38.3s\n",
      "[CV 1/3] END columntransformer__pipeline__dropcorrelatedfeatures__threshold=0.6, columntransformer__pipeline__robustscaler=RobustScaler(), iterativeimputer=SimpleImputer(), selectkbest__k=10;, score=0.335 total time=  20.2s\n",
      "[CV 3/3] END columntransformer__pipeline__dropcorrelatedfeatures__threshold=0.6, columntransformer__pipeline__robustscaler=None, iterativeimputer=IterativeImputer(), selectkbest__k=10;, score=0.362 total time=  23.2s\n",
      "[CV 2/3] END columntransformer__pipeline__dropcorrelatedfeatures__threshold=0.8, columntransformer__pipeline__robustscaler=RobustScaler(), iterativeimputer=IterativeImputer(), selectkbest__k=10;, score=0.332 total time=  27.9s\n",
      "[CV 1/3] END columntransformer__pipeline__dropcorrelatedfeatures__threshold=0.7, columntransformer__pipeline__robustscaler=StandardScaler(), iterativeimputer=SimpleImputer(), selectkbest__k=5;, score=0.303 total time=  21.5s\n",
      "[CV 3/3] END columntransformer__pipeline__dropcorrelatedfeatures__threshold=0.6, columntransformer__pipeline__robustscaler=RobustScaler(), iterativeimputer=SimpleImputer(), selectkbest__k=all;, score=0.440 total time=  32.6s\n",
      "[CV 2/3] END columntransformer__pipeline__dropcorrelatedfeatures__threshold=0.8, columntransformer__pipeline__robustscaler=StandardScaler(), iterativeimputer=KNNImputer(), selectkbest__k=10;, score=0.306 total time=  38.4s\n",
      "[CV 1/3] END columntransformer__pipeline__dropcorrelatedfeatures__threshold=0.8, columntransformer__pipeline__robustscaler=RobustScaler(), iterativeimputer=KNNImputer(), selectkbest__k=5;, score=0.279 total time=  33.9s\n",
      "[CV 3/3] END columntransformer__pipeline__dropcorrelatedfeatures__threshold=0.8, columntransformer__pipeline__robustscaler=StandardScaler(), iterativeimputer=IterativeImputer(), selectkbest__k=10;, score=0.344 total time=  24.9s\n",
      "[CV 2/3] END columntransformer__pipeline__dropcorrelatedfeatures__threshold=0.6, columntransformer__pipeline__robustscaler=RobustScaler(), iterativeimputer=IterativeImputer(), selectkbest__k=5;, score=0.293 total time=  22.2s\n",
      "[CV 1/3] END columntransformer__pipeline__dropcorrelatedfeatures__threshold=0.8, columntransformer__pipeline__robustscaler=RobustScaler(), iterativeimputer=SimpleImputer(), selectkbest__k=10;, score=0.344 total time=  24.2s\n",
      "[CV 3/3] END columntransformer__pipeline__dropcorrelatedfeatures__threshold=0.6, columntransformer__pipeline__robustscaler=StandardScaler(), iterativeimputer=IterativeImputer(), selectkbest__k=10;, score=0.362 total time=  23.4s\n",
      "[CV 2/3] END columntransformer__pipeline__dropcorrelatedfeatures__threshold=0.7, columntransformer__pipeline__robustscaler=StandardScaler(), iterativeimputer=SimpleImputer(), selectkbest__k=all;, score=0.433 total time=  34.6s\n",
      "[CV 3/3] END columntransformer__pipeline__dropcorrelatedfeatures__threshold=0.7, columntransformer__pipeline__robustscaler=RobustScaler(), iterativeimputer=KNNImputer(), selectkbest__k=all;, score=0.414 total time=  35.1s\n",
      "[CV 2/3] END columntransformer__pipeline__dropcorrelatedfeatures__threshold=0.6, columntransformer__pipeline__robustscaler=RobustScaler(), iterativeimputer=SimpleImputer(), selectkbest__k=10;, score=0.366 total time=  20.5s\n",
      "[CV 1/3] END columntransformer__pipeline__dropcorrelatedfeatures__threshold=0.9, columntransformer__pipeline__robustscaler=None, iterativeimputer=SimpleImputer(), selectkbest__k=all;, score=0.456 total time=  44.6s\n",
      "[CV 1/3] END columntransformer__pipeline__dropcorrelatedfeatures__threshold=0.7, columntransformer__pipeline__robustscaler=None, iterativeimputer=IterativeImputer(), selectkbest__k=5;, score=0.290 total time=  23.9s\n",
      "[CV 2/3] END columntransformer__pipeline__dropcorrelatedfeatures__threshold=0.9, columntransformer__pipeline__robustscaler=RobustScaler(), iterativeimputer=IterativeImputer(), selectkbest__k=all;, score=0.437 total time=  44.2s\n",
      "[CV 3/3] END columntransformer__pipeline__dropcorrelatedfeatures__threshold=0.6, columntransformer__pipeline__robustscaler=None, iterativeimputer=SimpleImputer(), selectkbest__k=5;, score=0.303 total time=  18.5s\n",
      "[CV 2/3] END columntransformer__pipeline__dropcorrelatedfeatures__threshold=0.6, columntransformer__pipeline__robustscaler=StandardScaler(), iterativeimputer=SimpleImputer(), selectkbest__k=5;, score=0.307 total time=  16.9s\n",
      "[CV 1/3] END columntransformer__pipeline__dropcorrelatedfeatures__threshold=0.8, columntransformer__pipeline__robustscaler=None, iterativeimputer=SimpleImputer(), selectkbest__k=all;, score=0.451 total time=  35.0s\n",
      "[CV 3/3] END columntransformer__pipeline__dropcorrelatedfeatures__threshold=0.9, columntransformer__pipeline__robustscaler=StandardScaler(), iterativeimputer=KNNImputer(), selectkbest__k=10;, score=0.341 total time=  40.5s\n",
      "[CV 3/3] END columntransformer__pipeline__dropcorrelatedfeatures__threshold=0.7, columntransformer__pipeline__robustscaler=RobustScaler(), iterativeimputer=SimpleImputer(), selectkbest__k=5;, score=0.320 total time=  19.5s\n",
      "[CV 2/3] END columntransformer__pipeline__dropcorrelatedfeatures__threshold=0.6, columntransformer__pipeline__robustscaler=StandardScaler(), iterativeimputer=IterativeImputer(), selectkbest__k=10;, score=0.359 total time=  23.9s\n",
      "[CV 1/3] END columntransformer__pipeline__dropcorrelatedfeatures__threshold=0.7, columntransformer__pipeline__robustscaler=StandardScaler(), iterativeimputer=SimpleImputer(), selectkbest__k=all;, score=0.457 total time=  38.5s\n",
      "[CV 2/3] END columntransformer__pipeline__dropcorrelatedfeatures__threshold=0.7, columntransformer__pipeline__robustscaler=RobustScaler(), iterativeimputer=KNNImputer(), selectkbest__k=all;, score=0.401 total time=  36.0s\n"
     ]
    },
    {
     "name": "stdout",
     "output_type": "stream",
     "text": [
      "[CV 2/3] END columntransformer__pipeline__dropcorrelatedfeatures__threshold=0.8, columntransformer__pipeline__robustscaler=StandardScaler(), iterativeimputer=IterativeImputer(), selectkbest__k=all;, score=0.425 total time=  37.2s\n",
      "[CV 2/3] END columntransformer__pipeline__dropcorrelatedfeatures__threshold=0.8, columntransformer__pipeline__robustscaler=None, iterativeimputer=KNNImputer(), selectkbest__k=all;, score=0.424 total time=  55.6s\n",
      "[CV 1/3] END columntransformer__pipeline__dropcorrelatedfeatures__threshold=0.6, columntransformer__pipeline__robustscaler=RobustScaler(), iterativeimputer=SimpleImputer(), selectkbest__k=all;, score=0.435 total time=  32.6s\n",
      "[CV 1/3] END columntransformer__pipeline__dropcorrelatedfeatures__threshold=0.8, columntransformer__pipeline__robustscaler=StandardScaler(), iterativeimputer=KNNImputer(), selectkbest__k=10;, score=0.315 total time=  38.0s\n",
      "[CV 3/3] END columntransformer__pipeline__dropcorrelatedfeatures__threshold=0.6, columntransformer__pipeline__robustscaler=StandardScaler(), iterativeimputer=SimpleImputer(), selectkbest__k=5;, score=0.323 total time=  17.5s\n",
      "[CV 2/3] END columntransformer__pipeline__dropcorrelatedfeatures__threshold=0.8, columntransformer__pipeline__robustscaler=None, iterativeimputer=SimpleImputer(), selectkbest__k=all;, score=0.443 total time=  35.0s\n",
      "[CV 2/3] END columntransformer__pipeline__dropcorrelatedfeatures__threshold=0.7, columntransformer__pipeline__robustscaler=RobustScaler(), iterativeimputer=KNNImputer(), selectkbest__k=5;, score=0.282 total time=  34.5s\n",
      "[CV 3/3] END columntransformer__pipeline__dropcorrelatedfeatures__threshold=0.8, columntransformer__pipeline__robustscaler=RobustScaler(), iterativeimputer=SimpleImputer(), selectkbest__k=10;, score=0.355 total time=  24.5s\n",
      "[CV 2/3] END columntransformer__pipeline__dropcorrelatedfeatures__threshold=0.7, columntransformer__pipeline__robustscaler=None, iterativeimputer=IterativeImputer(), selectkbest__k=10;, score=0.355 total time=  21.9s\n",
      "[CV 3/3] END columntransformer__pipeline__dropcorrelatedfeatures__threshold=0.7, columntransformer__pipeline__robustscaler=StandardScaler(), iterativeimputer=SimpleImputer(), selectkbest__k=all;, score=0.434 total time=  35.5s\n",
      "[CV 3/3] END columntransformer__pipeline__dropcorrelatedfeatures__threshold=0.8, columntransformer__pipeline__robustscaler=StandardScaler(), iterativeimputer=IterativeImputer(), selectkbest__k=all;, score=0.437 total time=  37.3s\n",
      "[CV 1/3] END columntransformer__pipeline__dropcorrelatedfeatures__threshold=0.8, columntransformer__pipeline__robustscaler=RobustScaler(), iterativeimputer=IterativeImputer(), selectkbest__k=10;, score=0.328 total time=  28.8s\n",
      "[CV 3/3] END columntransformer__pipeline__dropcorrelatedfeatures__threshold=0.7, columntransformer__pipeline__robustscaler=None, iterativeimputer=IterativeImputer(), selectkbest__k=5;, score=0.292 total time=  21.1s\n",
      "[CV 1/3] END columntransformer__pipeline__dropcorrelatedfeatures__threshold=0.9, columntransformer__pipeline__robustscaler=RobustScaler(), iterativeimputer=IterativeImputer(), selectkbest__k=all;, score=0.449 total time=  44.4s\n",
      "[CV 2/3] END columntransformer__pipeline__dropcorrelatedfeatures__threshold=0.6, columntransformer__pipeline__robustscaler=None, iterativeimputer=SimpleImputer(), selectkbest__k=5;, score=0.322 total time=  18.5s\n",
      "[CV 1/3] END columntransformer__pipeline__dropcorrelatedfeatures__threshold=0.6, columntransformer__pipeline__robustscaler=StandardScaler(), iterativeimputer=SimpleImputer(), selectkbest__k=5;, score=0.324 total time=  17.0s\n",
      "[CV 3/3] END columntransformer__pipeline__dropcorrelatedfeatures__threshold=0.8, columntransformer__pipeline__robustscaler=RobustScaler(), iterativeimputer=KNNImputer(), selectkbest__k=5;, score=0.287 total time=  33.6s\n",
      "[CV 2/3] END columntransformer__pipeline__dropcorrelatedfeatures__threshold=0.9, columntransformer__pipeline__robustscaler=StandardScaler(), iterativeimputer=KNNImputer(), selectkbest__k=10;, score=0.337 total time=  40.4s\n",
      "[CV 1/3] END columntransformer__pipeline__dropcorrelatedfeatures__threshold=0.7, columntransformer__pipeline__robustscaler=RobustScaler(), iterativeimputer=SimpleImputer(), selectkbest__k=5;, score=0.348 total time=  22.1s\n",
      "[CV 1/3] END columntransformer__pipeline__dropcorrelatedfeatures__threshold=0.6, columntransformer__pipeline__robustscaler=StandardScaler(), iterativeimputer=IterativeImputer(), selectkbest__k=10;, score=0.355 total time=  24.1s\n",
      "[CV 3/3] END columntransformer__pipeline__dropcorrelatedfeatures__threshold=0.7, columntransformer__pipeline__robustscaler=None, iterativeimputer=IterativeImputer(), selectkbest__k=10;, score=0.360 total time=  22.0s\n",
      "[CV 2/3] END columntransformer__pipeline__dropcorrelatedfeatures__threshold=0.6, columntransformer__pipeline__robustscaler=RobustScaler(), iterativeimputer=KNNImputer(), selectkbest__k=5;, score=0.282 total time=  33.2s\n"
     ]
    }
   ],
   "source": [
    "submit.to_csv('/Users/nikitagoroshevskiy/Desktop/projects/M1_24DS_plus/music-genre-prediction-m124ds/submit4.csv', index_label=False, index=False)"
   ]
  },
  {
   "cell_type": "markdown",
   "id": "5372811d",
   "metadata": {},
   "source": [
    "## Краткий итог"
   ]
  },
  {
   "cell_type": "markdown",
   "id": "f11652a2",
   "metadata": {},
   "source": [
    "По итогам анализа данных установлено наличие пропусков и неявных дубликатов. Вероятно, одни и те же композиции были внесены дважды. При внесении использованы заглушки, качественные категории несбалансированы. Присутствуют недостоверные показатели продолжительности композиций, выгрузка данных могла пройти с ошибками.\n",
    "\n",
    "С учётом размеров исходного датафрейма используем две модели, которые хорошо принимают такие данные - случайный лес и градиентный бустинг с разбитием на корзины. Два эстимейтора мы объединяем через стэкинг с логистической регрессией и проверяем метрику f1 micro. Метрика составила 0.509."
   ]
  },
  {
   "cell_type": "code",
   "execution_count": null,
   "id": "e3da277b",
   "metadata": {},
   "outputs": [],
   "source": []
  }
 ],
 "metadata": {
  "kernelspec": {
   "display_name": "Python 3 (ipykernel)",
   "language": "python",
   "name": "python3"
  },
  "language_info": {
   "codemirror_mode": {
    "name": "ipython",
    "version": 3
   },
   "file_extension": ".py",
   "mimetype": "text/x-python",
   "name": "python",
   "nbconvert_exporter": "python",
   "pygments_lexer": "ipython3",
   "version": "3.9.13"
  }
 },
 "nbformat": 4,
 "nbformat_minor": 5
}
